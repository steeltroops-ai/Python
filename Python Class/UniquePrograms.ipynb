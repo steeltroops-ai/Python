{
 "cells": [
  {
   "cell_type": "code",
   "execution_count": 1,
   "metadata": {},
   "outputs": [
    {
     "name": "stdout",
     "output_type": "stream",
     "text": [
      "welcome to hamgman\n",
      "__th_n\n",
      "guess the missing letters\n",
      "p_ht_n\n",
      "guess the missing letters\n",
      "pyht_n\n",
      "guess the missing letters\n",
      "python\n",
      "Congrats! You Won.\n"
     ]
    }
   ],
   "source": [
    "#HangMan\n",
    "\n",
    "word='python'\n",
    "target = '__th_n'\n",
    "n=5\n",
    "\n",
    "\n",
    "print('welcome to hamgman')\n",
    "print(target)\n",
    "p=False\n",
    "y=False\n",
    "o=False\n",
    "\n",
    "while n>0:\n",
    "\n",
    "    print('guess the missing letters')\n",
    "    guess=input()\n",
    "\n",
    "    if guess == 'p':\n",
    "        p=True\n",
    "    elif guess=='y':\n",
    "        y=True\n",
    "    elif guess=='o':\n",
    "        o=True\n",
    "    \n",
    "    else:\n",
    "        n -= 1\n",
    "\n",
    "    if y and o and p:\n",
    "        print('python')\n",
    "        print(\"Congrats! You Won.\")\n",
    "        break \n",
    "\n",
    "    elif y and o:\n",
    "        print('_yhton')\n",
    "    elif y and p:\n",
    "        print('pyht_n')\n",
    "    elif p and o:\n",
    "        print('p_hton')\n",
    "    \n",
    "    elif p:\n",
    "        print('p_ht_n')\n",
    "    elif y:\n",
    "        print('_yht_n')\n",
    "    elif o:\n",
    "        print('__thon')\n",
    "    \n",
    "    else:\n",
    "        print(\"You lost \\n Good Bye\")"
   ]
  },
  {
   "cell_type": "code",
   "execution_count": 3,
   "metadata": {},
   "outputs": [
    {
     "name": "stdout",
     "output_type": "stream",
     "text": [
      "C\n"
     ]
    }
   ],
   "source": [
    "a={1:\"A\",2:\"B\",3:\"C\"}\n",
    "print(a.setdefault(3))"
   ]
  },
  {
   "cell_type": "code",
   "execution_count": 19,
   "metadata": {},
   "outputs": [
    {
     "data": {
      "text/plain": [
       "dict_items([(1, 'A'), (2, 'B'), (3, 'C')])"
      ]
     },
     "execution_count": 19,
     "metadata": {},
     "output_type": "execute_result"
    }
   ],
   "source": [
    "a={1:\"A\",2:\"B\",3:\"C\"}\n",
    "a.items()"
   ]
  }
 ],
 "metadata": {
  "interpreter": {
   "hash": "5ea693405629aa4bde5235c97c82e6ee1befddfc4b33d055b21412e1fa4f2d07"
  },
  "kernelspec": {
   "display_name": "Python 3.10.0 64-bit",
   "language": "python",
   "name": "python3"
  },
  "language_info": {
   "codemirror_mode": {
    "name": "ipython",
    "version": 3
   },
   "file_extension": ".py",
   "mimetype": "text/x-python",
   "name": "python",
   "nbconvert_exporter": "python",
   "pygments_lexer": "ipython3",
   "version": "3.10.2"
  },
  "orig_nbformat": 4
 },
 "nbformat": 4,
 "nbformat_minor": 2
}
