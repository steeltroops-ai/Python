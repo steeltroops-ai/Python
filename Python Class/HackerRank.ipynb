{
 "cells": [
  {
   "cell_type": "code",
   "execution_count": 1,
   "metadata": {},
   "outputs": [
    {
     "name": "stdout",
     "output_type": "stream",
     "text": [
      "3\n"
     ]
    }
   ],
   "source": [
    "\"boolean Expression\"\n",
    "\n",
    "a = int(input())\n",
    "b = int(input())\n",
    "x = int(input())\n",
    "print(a * x + a * (1 - x))"
   ]
  },
  {
   "cell_type": "code",
   "execution_count": 2,
   "metadata": {},
   "outputs": [
    {
     "name": "stdout",
     "output_type": "stream",
     "text": [
      "'Valentine Match'\n"
     ]
    }
   ],
   "source": [
    "\"valentine match\"\n",
    "\n",
    "num1 = int(input())\n",
    "num2 = int(input())\n",
    "\n",
    "out = \"'Valentine Match'\" if num1 ^ num2 == num1 + num2 else None\n",
    "\n",
    "print(out)"
   ]
  },
  {
   "cell_type": "code",
   "execution_count": 3,
   "metadata": {},
   "outputs": [
    {
     "name": "stdout",
     "output_type": "stream",
     "text": [
      "2\n"
     ]
    }
   ],
   "source": [
    "\"Detest of three\"\n",
    "\n",
    "# input section\n",
    "pos = int(input('enter the position: '))\n",
    "i = 1\n",
    "\n",
    "while True:\n",
    "    if i % 3 != 0 and i % 10 != 3:\n",
    "        pos -=  1\n",
    "        if pos <= 0:\n",
    "            break\n",
    "    i += 1\n",
    "print(i)   \n",
    "\n",
    "\n",
    "# seq = [1, 2, 4, 5, 7, 8, 10, 11, 14, 16, ...]"
   ]
  },
  {
   "cell_type": "code",
   "execution_count": null,
   "metadata": {},
   "outputs": [],
   "source": [
    "\"weird and Not Weird\"\n",
    "\n",
    "num = int(input(\"Enter the number \"))\n",
    "if num % 2:\n",
    "    print(\"Weird\")\n",
    "else:\n",
    "    if 2 <= num <= 5:\n",
    "        print(\"Not Weird\")\n",
    "    elif 6 <= num <= 20:\n",
    "        print(\"Weird\")\n",
    "    elif num > 20:\n",
    "        print(\"Not Weird\")"
   ]
  },
  {
   "cell_type": "code",
   "execution_count": null,
   "metadata": {},
   "outputs": [],
   "source": [
    "\"Positive Integer pairs\"\n",
    "P = int(input())\n",
    "X = int(input())\n",
    "\n",
    "for i in range((P//2)+1):  # if we use loop upto P repeat the vice versa condition \n",
    "    j = P - i\n",
    "    if i ^ j == X:\n",
    "        print(i, j)"
   ]
  },
  {
   "cell_type": "code",
   "execution_count": null,
   "metadata": {},
   "outputs": [],
   "source": [
    "\"Adjacent characters\"\n",
    "# input section and initialization \n",
    "st = input()\n",
    "out = ''\n",
    "\n",
    "# logic section\n",
    "ln = len(st)\n",
    "if ln % 2:\n",
    "    out = 'Odd length.'  \n",
    "else:\n",
    "    for i in range(0, ln, 2):\n",
    "        out += st[i:i+2][::-1]\n",
    "\n",
    "# output section    \n",
    "print(out)"
   ]
  },
  {
   "cell_type": "code",
   "execution_count": null,
   "metadata": {},
   "outputs": [],
   "source": [
    "\"Stream Flow\"\n",
    "st = input(\"Enter the string \")\n",
    "rt = int(input('Enter the rotation '))\n",
    "\n",
    "for i in range(rt):\n",
    "    st = st[1:] + st[0]\n",
    "print(st)    \n"
   ]
  },
  {
   "cell_type": "code",
   "execution_count": null,
   "metadata": {},
   "outputs": [],
   "source": [
    "\"Days2Years\"\n",
    "days = int(input(\"Enter the number of days\"))\n",
    "\n",
    "yrs = days // 365\n",
    "days %= 365\n",
    "weeks = days // 7 #msiexec.exe /package PowerShell-7.1.5-win-x64.msi /quiet ADD_EXPLORER_CONTEXT_MENU_OPENPOWERSHELL=1 ENABLE_PSREMOTING=1 REGISTER_MANIFEST=1\n",
    "\n",
    "days %= 7\n",
    "print(yrs)\n",
    "print(weeks)\n",
    "print(days)"
   ]
  },
  {
   "cell_type": "code",
   "execution_count": null,
   "metadata": {},
   "outputs": [],
   "source": [
    "\"hopscotch game\"\n",
    "\n",
    "jumps = list(map(int, input().split()))  # [2,3,1,1,4]\n",
    "\n",
    "hop_jump_index = len(jumps) - 1  # 4\n",
    "\n",
    "for i in range(len(jumps)-1, -1, -1):\n",
    "    if i + jumps[i] >= hop_jump_index:\n",
    "        hop_jump_index = i\n",
    "    # print(hop_jump_index)\n",
    "print(hop_jump_index == 0)        #\"hopscotch game\"\n",
    "\n",
    "jumps = list(map(int, input().split()))  # [2,3,1,1,4]\n",
    "\n",
    "hop_jump_index = len(jumps) - 1  # 4\n",
    "\n",
    "for i in range(len(jumps)-1, -1, -1):\n",
    "    if i + jumps[i] >= hop_jump_index:\n",
    "        hop_jump_index = i\n",
    "    # print(hop_jump_index)\n",
    "print(hop_jump_index == 0)"
   ]
  },
  {
   "cell_type": "code",
   "execution_count": null,
   "metadata": {},
   "outputs": [],
   "source": [
    "# english word\n",
    "k = int(input()) - 1\n",
    "lst = ['ONE', 'TWO', 'THREE', 'FOUR', 'FIVE', 'SIX', 'SEVEN', 'EIGHT', 'NINE']\n",
    "\n",
    "# print('can\\'t digit covered with \" tokens' if k > len(lst) else lst[k])\n",
    "print('can\\'t digit covered with \" tokens'* (k > len(lst)) or lst[k])"
   ]
  },
  {
   "cell_type": "code",
   "execution_count": null,
   "metadata": {},
   "outputs": [],
   "source": [
    "\"Number of days i a month\"\n",
    "mn = int(input())\n",
    "m = [31, 28, 31, 30, 31, 30, 31, 31, 30, 31, 30, 31]\n",
    "print(m[mn-1])"
   ]
  },
  {
   "cell_type": "code",
   "execution_count": null,
   "metadata": {},
   "outputs": [],
   "source": [
    "\"Gully Boy Boht Hard Question\"\n",
    "st = input()\n",
    "node = int(input())\n",
    "rp = int(input())\n",
    "\n",
    "print(*(st[node:] + st[:node]).replace(' ', '')*rp)"
   ]
  },
  {
   "cell_type": "code",
   "execution_count": 1,
   "metadata": {},
   "outputs": [
    {
     "name": "stdout",
     "output_type": "stream",
     "text": [
      "   0\n",
      "   1\n",
      "  10\n",
      "  11\n",
      " 100\n",
      " 101\n",
      " 110\n",
      " 111\n",
      "1000\n",
      "1001\n"
     ]
    }
   ],
   "source": [
    "\"binary burj khalifa\"\n",
    "\n",
    "num = int(input())\n",
    "ln = len(bin(num)) - 2\n",
    "for i in range(num+1):\n",
    "    print(bin(i)[2:].rjust(ln))"
   ]
  },
  {
   "cell_type": "code",
   "execution_count": null,
   "metadata": {},
   "outputs": [],
   "source": [
    "# First Non-Repeating character \n",
    "\n",
    "st = input()\n",
    "kh = None\n",
    "for i in st:\n",
    "    if st.count(i) <= 1:\n",
    "        kh = i\n",
    "        break\n",
    "print(kh)   "
   ]
  },
  {
   "cell_type": "code",
   "execution_count": null,
   "metadata": {},
   "outputs": [],
   "source": [
    "# valid parenthesis length \n",
    "# \n",
    "st = input()\n",
    "lst = [-1]\n",
    "\n",
    "mx = 0\n",
    "for i in range(len(st)):\n",
    "    if st[i] == '(':\n",
    "        lst.append(i)\n",
    "    else:\n",
    "        lst.pop()\n",
    "        if not lst:\n",
    "            lst.append(i)\n",
    "        else:\n",
    "            mx = max(mx, i-lst[-1])\n",
    "print(mx)\n"
   ]
  },
  {
   "cell_type": "code",
   "execution_count": 4,
   "metadata": {},
   "outputs": [
    {
     "name": "stdout",
     "output_type": "stream",
     "text": [
      "94\n"
     ]
    }
   ],
   "source": [
    "# consecutive 1ns\n",
    "\n",
    "num = int(input())\n",
    "count = 0\n",
    "for i in range(2**num):\n",
    "    if '11' in bin(i):\n",
    "        count +=1\n",
    "print(count)"
   ]
  }
 ],
 "metadata": {
  "interpreter": {
   "hash": "5ea693405629aa4bde5235c97c82e6ee1befddfc4b33d055b21412e1fa4f2d07"
  },
  "kernelspec": {
   "display_name": "Python 3.10.0 64-bit",
   "language": "python",
   "name": "python3"
  },
  "language_info": {
   "codemirror_mode": {
    "name": "ipython",
    "version": 3
   },
   "file_extension": ".py",
   "mimetype": "text/x-python",
   "name": "python",
   "nbconvert_exporter": "python",
   "pygments_lexer": "ipython3",
   "version": "3.10.0"
  },
  "orig_nbformat": 4
 },
 "nbformat": 4,
 "nbformat_minor": 2
}
