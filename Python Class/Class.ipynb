{
 "cells": [
  {
   "cell_type": "code",
   "execution_count": 1,
   "metadata": {},
   "outputs": [
    {
     "name": "stdout",
     "output_type": "stream",
     "text": [
      "['s', 't', 'e', 'e', 'l', 't', 'r', 'o', 'o', 'p', 's']\n"
     ]
    }
   ],
   "source": [
    "#sort characters\n",
    "st=input(\"enter the string\")\n",
    "lst=[ch for ch in st]  #methode 1\n",
    "lst= list(st)   #methode 2\n",
    "print(lst)"
   ]
  },
  {
   "cell_type": "markdown",
   "metadata": {},
   "source": [
    "Date - 15/11/2021"
   ]
  },
  {
   "cell_type": "markdown",
   "metadata": {},
   "source": [
    "Q. WAP to print that t"
   ]
  },
  {
   "cell_type": "code",
   "execution_count": 2,
   "metadata": {},
   "outputs": [
    {
     "name": "stdout",
     "output_type": "stream",
     "text": [
      "3\n"
     ]
    }
   ],
   "source": [
    "y=3\n",
    "x=10\n",
    "print(x and y)"
   ]
  },
  {
   "cell_type": "code",
   "execution_count": 3,
   "metadata": {},
   "outputs": [
    {
     "name": "stdout",
     "output_type": "stream",
     "text": [
      "7\n"
     ]
    },
    {
     "ename": "TypeError",
     "evalue": "'NoneType' object is not subscriptable",
     "output_type": "error",
     "traceback": [
      "\u001b[1;31m---------------------------------------------------------------------------\u001b[0m",
      "\u001b[1;31mTypeError\u001b[0m                                 Traceback (most recent call last)",
      "\u001b[1;32m~\\AppData\\Local\\Temp\\ipykernel_20268\\238453873.py\u001b[0m in \u001b[0;36m<module>\u001b[1;34m\u001b[0m\n\u001b[0;32m      1\u001b[0m \u001b[0mn\u001b[0m\u001b[1;33m=\u001b[0m\u001b[1;36m7\u001b[0m\u001b[1;33m\u001b[0m\u001b[1;33m\u001b[0m\u001b[0m\n\u001b[1;32m----> 2\u001b[1;33m \u001b[0mprint\u001b[0m\u001b[1;33m(\u001b[0m\u001b[0mn\u001b[0m\u001b[1;33m)\u001b[0m\u001b[1;33m[\u001b[0m\u001b[1;33m-\u001b[0m\u001b[1;36m1\u001b[0m\u001b[1;33m]\u001b[0m\u001b[1;33m==\u001b[0m\u001b[1;34m'1,'\u001b[0m\u001b[1;33m\u001b[0m\u001b[1;33m\u001b[0m\u001b[0m\n\u001b[0m",
      "\u001b[1;31mTypeError\u001b[0m: 'NoneType' object is not subscriptable"
     ]
    }
   ],
   "source": [
    "n=7\n",
    "print(n)[-1]=='1,'\n"
   ]
  },
  {
   "cell_type": "markdown",
   "metadata": {},
   "source": [
    "Topic - Tuple\n",
    "tuple is the identical to the list in to  all the aspect while  tuple is enclosed in parenthesis bracket. "
   ]
  },
  {
   "cell_type": "code",
   "execution_count": null,
   "metadata": {},
   "outputs": [],
   "source": [
    "t = (4,10,1,'hello')\n",
    "print(t, type(t))\n"
   ]
  },
  {
   "cell_type": "code",
   "execution_count": null,
   "metadata": {},
   "outputs": [],
   "source": [
    "#tuple initialization\n",
    "\n",
    "#empty tuple \n",
    "t = ()\n",
    "t = tuple()\n",
    "print(t, type(t)) #<class tuple>\n",
    "\n",
    "#tuple with single element\n",
    "t = (10)\n",
    "\n",
    "\n"
   ]
  },
  {
   "cell_type": "code",
   "execution_count": null,
   "metadata": {},
   "outputs": [],
   "source": [
    "#accessing the elememt in tuple\n",
    "t = (10,20,100,54)\n",
    "out = t(-1)\n",
    "'''\n",
    "out = t(1)\n",
    "out = t(1:10)\n",
    "'''\n",
    "print(out)\n"
   ]
  },
  {
   "cell_type": "markdown",
   "metadata": {},
   "source": [
    "Tuple is immutable like a string. (fixed object value)"
   ]
  },
  {
   "cell_type": "code",
   "execution_count": null,
   "metadata": {},
   "outputs": [],
   "source": [
    "#Item deletion\n",
    "t = (10,20)\n",
    "del t"
   ]
  },
  {
   "cell_type": "code",
   "execution_count": null,
   "metadata": {},
   "outputs": [],
   "source": [
    "#Item Assignment\n"
   ]
  },
  {
   "cell_type": "markdown",
   "metadata": {},
   "source": [
    "Methods in a tuple\n",
    "\n",
    "1. count() =\tReturns the number of times a specified value occurs in a tuple\n",
    "\n",
    "2. index() = Searches the tuple for a specified value and returns the position of where it was found"
   ]
  },
  {
   "cell_type": "code",
   "execution_count": null,
   "metadata": {},
   "outputs": [],
   "source": [
    "# count methode\n",
    "thistuple = (1, 3, 7, 8, 7, 5, 4, 6, 8, 5)\n",
    "\n",
    "x = thistuple.count(5)\n",
    "\n",
    "print(x)"
   ]
  },
  {
   "cell_type": "code",
   "execution_count": null,
   "metadata": {},
   "outputs": [],
   "source": [
    "#index methode\n",
    "\n",
    "thistuple = (1, 3, 7, 8, 7, 5, 4, 6, 8, 5)\n",
    "\n",
    "x = thistuple.index(8)\n",
    "\n",
    "print(x)"
   ]
  },
  {
   "cell_type": "code",
   "execution_count": null,
   "metadata": {},
   "outputs": [],
   "source": [
    "#multiplication with tuple\n",
    "t = (2,5)\n",
    "out = t*2\n",
    "print(out, type(out))\n",
    "\n",
    "out = t*0\n",
    "print(out, type(out))\n",
    "\n"
   ]
  },
  {
   "cell_type": "markdown",
   "metadata": {},
   "source": [
    "#Python Tuples vs Lists\n",
    "1. A revision of tuples\n",
    "2. A revision of lists \n",
    "3. Mutability\n",
    "4. Functions\n",
    "5. Methods\n",
    "6. Tuples in a list\n",
    "7. List in a tuple\n",
    "8. Nested Tuples\n",
    "9. Nested lists\n",
    "10. When to use which "
   ]
  },
  {
   "cell_type": "code",
   "execution_count": null,
   "metadata": {},
   "outputs": [
    {
     "name": "stdout",
     "output_type": "stream",
     "text": [
      "2369180367104\n",
      "2369180367104\n",
      "(2, [], [], (4, 11, 34))\n"
     ]
    }
   ],
   "source": [
    "#lists in a tuple\n",
    "t = (2,[4,6],[],(4,11,34))\n",
    "print(id(t[1]))\n",
    "t[1].clear()\n",
    "print(id(t[1]))\n",
    "\n",
    "print(t)\n"
   ]
  },
  {
   "cell_type": "code",
   "execution_count": null,
   "metadata": {},
   "outputs": [],
   "source": [
    "#Tuple in a list\n",
    "ls=[2,54,6,(),[4,5,6]]\n",
    "ls[-1].clear()\n",
    "print(ls)"
   ]
  },
  {
   "cell_type": "code",
   "execution_count": null,
   "metadata": {},
   "outputs": [
    {
     "name": "stdout",
     "output_type": "stream",
     "text": [
      "3\n",
      "<class 'tuple'>\n",
      "<class 'str'>\n"
     ]
    }
   ],
   "source": [
    "thistuple = (\"apple\", \"banana\", \"cherry\")\n",
    "print(len(thistuple))\n",
    "\n",
    "thistuple = (\"apple\",)\n",
    "print(type(thistuple))\n",
    "\n",
    "#NOT a tuple\n",
    "thistuple = (\"apple\")\n",
    "print(type(thistuple))"
   ]
  },
  {
   "cell_type": "code",
   "execution_count": null,
   "metadata": {},
   "outputs": [],
   "source": [
    "t1=(1,2,4,3)\n",
    "t2=(1,2,3,4)\n",
    "t1>t2"
   ]
  },
  {
   "cell_type": "markdown",
   "metadata": {},
   "source": [
    "#Dictionary\n",
    "\n",
    "1. A dictionary is mutable and unordered collection of items each item is the pair of keys and values.\n",
    "   \n",
    "2. Dictionaries consist of pairs (called items) of keys and their corresponding values.\n",
    "   \n",
    "3. Think of the key as a Index in ordered Collections.\n",
    "   \n",
    "4. Python dictionaries are also known as associative arrays or hash tables.\n",
    "   \n",
    "5. dict = {'Car': ['Nano', 'Alto' ] ,'Color': 'White','Speed': 100}"
   ]
  },
  {
   "cell_type": "code",
   "execution_count": null,
   "metadata": {},
   "outputs": [
    {
     "name": "stdout",
     "output_type": "stream",
     "text": [
      "{} <class 'dict'>\n",
      "{} <class 'dict'>\n"
     ]
    }
   ],
   "source": [
    "# dictionary creation empty\n",
    "d = {}\n",
    "print(d, type(d)) # {} <class 'dict'>\n",
    "\n",
    "d = dict() # dict constructor\n",
    "print(d, type(d)) # {} <class 'dict'>"
   ]
  },
  {
   "cell_type": "code",
   "execution_count": null,
   "metadata": {},
   "outputs": [],
   "source": [
    "#how to initialize empty dictionary\n",
    "# dct={} dictionary formate\n",
    "dct=dict{}\n",
    "print(dct,type(dct))"
   ]
  },
  {
   "cell_type": "code",
   "execution_count": null,
   "metadata": {},
   "outputs": [],
   "source": [
    "#for mutability\n",
    "dct={'name':'amit','address':'GLA','Roll.no':33}\n",
    "#item update \n",
    "print(dct)=['name']\n",
    "dct['name']='Rakesh'\n",
    "print(dct)"
   ]
  },
  {
   "cell_type": "code",
   "execution_count": null,
   "metadata": {},
   "outputs": [],
   "source": [
    "#for mutability\n",
    "#item deletion\n",
    "dct={'name':'amit','address':'GLA','Roll.no':33}\n",
    "del dct['Roll.no']\n",
    "print(dct)"
   ]
  },
  {
   "cell_type": "code",
   "execution_count": null,
   "metadata": {},
   "outputs": [
    {
     "name": "stdout",
     "output_type": "stream",
     "text": [
      "{'name': 'amit', 'address': 'GLA', 'Roll.no': 33, 'cpi': 8.88}\n"
     ]
    }
   ],
   "source": [
    "dct={'name':'amit','address':'GLA','Roll.no':33}\n",
    "dct['cpi']=8.88\n",
    "print(dct)"
   ]
  },
  {
   "cell_type": "code",
   "execution_count": null,
   "metadata": {},
   "outputs": [
    {
     "name": "stdout",
     "output_type": "stream",
     "text": [
      "{'name': 'steeltroops', 'address': 'GLA', 'Roll.no': 33}\n"
     ]
    }
   ],
   "source": [
    "dct={'name':'amit','address':'GLA','Roll.no':33,'name':'steeltroops'}\n",
    "print(dct)"
   ]
  },
  {
   "cell_type": "code",
   "execution_count": null,
   "metadata": {},
   "outputs": [
    {
     "name": "stdout",
     "output_type": "stream",
     "text": [
      "200\n"
     ]
    }
   ],
   "source": [
    "dct={'name':['amit','steeltroops'],'address':'GLA','Roll.no':33,'name':'steeltroops',33:100,(3,4):200}\n",
    "print(dct[3,4])"
   ]
  },
  {
   "cell_type": "markdown",
   "metadata": {},
   "source": [
    "Properties of Dictionary:\n",
    "\n",
    "• Dictionary values have no restrictions.\n",
    "\n",
    "• They can be any arbitrary Python object,\n",
    "either standard objects or user-defined objects.\n",
    "• However, same is not true for the keys.\n",
    "\n",
    "• Keys are unique (no duplicate key is allowed)\n",
    "\n",
    "• Keys should be immutable type objects\n",
    "\n",
    "• The collections is unordered of items\n",
    "\n",
    "• Generally dictionary is the a list of (key, value)\n",
    "tuples of the dictionary. We can use it\n",
    "iterate/loop over the dictionary."
   ]
  },
  {
   "cell_type": "markdown",
   "metadata": {},
   "source": [
    "#Methods\n",
    "\n",
    "1.Python Dictionary clear()     #Remove all items\n",
    "\n",
    "2.Python Dictionary copy()      #Return shallow copy of a dictionary\n",
    "\n",
    "3.Python Dictionary fromkeys()   #Create dictionary from given sequence\n",
    "\n",
    "4.Python Dictionary get()        #Return the value of the key\n",
    "\n",
    "5.Python Dictionary items()      #Return views pf dictionary's (key,value) pair\n",
    "\n",
    "6.Python Dictionary keys        #Return view object of all keys\n",
    "\n",
    "7.Python Dictionary pop item()   #Returns and remove element from dictionary\n",
    "\n",
    "\n"
   ]
  },
  {
   "cell_type": "code",
   "execution_count": null,
   "metadata": {},
   "outputs": [],
   "source": [
    "#1\n",
    "dct={'name':'amit','address':'GLA','Roll.no':33,'name':'steeltroops'}\n",
    "dct.clear()\n",
    "print(dct)"
   ]
  },
  {
   "cell_type": "code",
   "execution_count": null,
   "metadata": {},
   "outputs": [],
   "source": [
    "#2\n",
    "dct={'name':'amit','address':'GLA','Roll.no':33,'name':'steeltroops'}\n",
    "dct2=dct\n",
    "print(dct)\n",
    "dct2.clear()\n",
    "print(dct2)"
   ]
  },
  {
   "cell_type": "code",
   "execution_count": null,
   "metadata": {},
   "outputs": [],
   "source": [
    "#3\n",
    "lst=['name','mob.no','father','address']\n",
    "out=dct.fromkeys(lst)\n",
    "print(out)"
   ]
  },
  {
   "cell_type": "code",
   "execution_count": null,
   "metadata": {},
   "outputs": [],
   "source": [
    "#4\n",
    "dct={'name':'amit','address':'GLA','Roll.no':33,'name':'steeltroops'}\n",
    "print(dct.get('name','value not found'))"
   ]
  },
  {
   "cell_type": "code",
   "execution_count": null,
   "metadata": {},
   "outputs": [],
   "source": [
    "dct={'name':'amit','address':'GLA','Roll.no':33,'name':'steeltroops',(4,6):54}\n",
    "out=dct.get((4,6))\n",
    "print(out)"
   ]
  },
  {
   "cell_type": "code",
   "execution_count": null,
   "metadata": {},
   "outputs": [],
   "source": [
    "#5\n",
    "dct1={'name':'amit','address':'GLA','Roll.no':33,'name':'steeltroops',(4,6):54}\n",
    "dct2={'name':'amit','address':'GLA','Roll.no':33,'name':'steeltroops'}\n",
    "out=dct1.update(dct2)\n",
    "print(dct1)"
   ]
  },
  {
   "cell_type": "markdown",
   "metadata": {},
   "source": [
    "# Random Patterns"
   ]
  },
  {
   "cell_type": "code",
   "execution_count": null,
   "metadata": {},
   "outputs": [],
   "source": [
    "'''\n",
    "*\n",
    "**\n",
    "***\n",
    "****\n",
    "'''\n",
    "row = int(input('Enter the string'))\n",
    "for i in range(1,row+1):\n",
    "    print(\"*\"*i)"
   ]
  },
  {
   "cell_type": "code",
   "execution_count": null,
   "metadata": {},
   "outputs": [],
   "source": [
    "row = int(input('Enter the string'))\n",
    "for i in range(1,row+1):\n",
    "    print(\"*\"*-i)"
   ]
  },
  {
   "cell_type": "code",
   "execution_count": null,
   "metadata": {},
   "outputs": [],
   "source": [
    "'''\n",
    "   *\n",
    "  *** \n",
    " *****\n",
    "*******\n",
    " '''\n",
    "row=int(input())\n",
    "\n",
    "for i in range(1,row+1):\n",
    "   print(' '*(row-i)+'*'*(2*i-1)) "
   ]
  },
  {
   "cell_type": "code",
   "execution_count": null,
   "metadata": {},
   "outputs": [],
   "source": [
    "rows = int(input(\"Enter number of rows: \"))\n",
    "\n",
    "for i in range(rows, 1, -1):\n",
    "    for space in range(0, rows-i):\n",
    "        print(\"  \", end=\"\")\n",
    "    for j in range(i, 2*i-1):\n",
    "        print(\"* \", end=\"\")\n",
    "    for j in range(1, i-1):\n",
    "        print(\"* \", end=\"\")\n",
    "    print()"
   ]
  },
  {
   "cell_type": "code",
   "execution_count": null,
   "metadata": {},
   "outputs": [],
   "source": [
    "row=int(input())\n",
    "\n",
    "for i in range (1,row+1):\n",
    "    for j in range(1,row-i+1):\n",
    "        print('',end='')\n",
    "for k in range(1,2*i):\n",
    "    if k==2*i-1 or i==row:\n",
    "        print('*',end='')\n",
    "    else:\n",
    "        print(' ',end='')\n",
    "print()"
   ]
  },
  {
   "cell_type": "code",
   "execution_count": null,
   "metadata": {},
   "outputs": [],
   "source": [
    "row=int(input())\n",
    "coef=1\n",
    "\n",
    "for i in range(1,rows+1):\n",
    "    for space in range(1, rows-i+1):\n",
    "        print(\"\",end=\"\")\n",
    "    for j in range(0,i):\n",
    "        if j==0 or i==0:\n",
    "            coef=1\n",
    "        else:\n",
    "            coef=coef*(i-j)//j\n",
    "        print(coef,end=\"\")\n",
    "    print()"
   ]
  },
  {
   "cell_type": "code",
   "execution_count": null,
   "metadata": {},
   "outputs": [],
   "source": [
    "rows = int(input(\"Enter number of rows: \"))\n",
    "coef = 1\n",
    "\n",
    "for i in range(1, rows+1):\n",
    "    for space in range(1, rows-i+1):\n",
    "        print(\" \",end=\"\")\n",
    "    for j in range(0, i):\n",
    "        if j==0 or i==0:\n",
    "            coef = 1\n",
    "        else:\n",
    "            coef = coef * (i - j)//j\n",
    "        print(coef, end = \" \")\n",
    "    print()"
   ]
  },
  {
   "cell_type": "code",
   "execution_count": null,
   "metadata": {},
   "outputs": [],
   "source": [
    "rows = int(input())\n",
    "b = 1\n",
    "\n",
    "for i in range(1, rows+1):\n",
    "    for j in range(1, i+1):\n",
    "        print(b, end=\" \")\n",
    "        b += 1\n",
    "    print()"
   ]
  },
  {
   "cell_type": "code",
   "execution_count": null,
   "metadata": {},
   "outputs": [],
   "source": [
    "rows = int(input())\n",
    "b = 65\n",
    "\n",
    "for i in range(1, rows+1):\n",
    "    for j in range(1, i+1):\n",
    "        print(chr(b), end=\" \")\n",
    "        b += 1\n",
    "    print()"
   ]
  },
  {
   "cell_type": "code",
   "execution_count": null,
   "metadata": {},
   "outputs": [],
   "source": [
    "#binary burj khalifa\n",
    "n = int(input('enter the height of the pattern '))\n",
    "l = len(bin(n))-2\n",
    "\n",
    "for k in range(n+1):\n",
    "    k=bin(k)[2:]\n",
    "    p=len(k)\n",
    "    print(' '*(l-p)+k)\n"
   ]
  },
  {
   "cell_type": "code",
   "execution_count": null,
   "metadata": {},
   "outputs": [],
   "source": [
    "row=int(input())\n",
    "ln=len(bin(row))-2\n",
    "for i in range(row+1):\n",
    "    x=bin(i)[2:]\n",
    "    d=ln-len(x)\n",
    "    print(' '*d+x)"
   ]
  },
  {
   "cell_type": "code",
   "execution_count": null,
   "metadata": {},
   "outputs": [],
   "source": [
    "#Butterfly Pattern\n",
    "row = int(input(\"Enter number of rows (even): \"))\n",
    "\n",
    "n = row//2\n",
    "\n",
    "print(\"Generated butterfly pattern is:\\n\")\n",
    "# Upper part\n",
    "for i in range(1,n+1):\n",
    "    for j in range(1, 2*n+1):\n",
    "        if j>i and j< 2*n+1-i:\n",
    "            print(\"  \", end=\"\")\n",
    "        else:\n",
    "            print(\"* \", end=\"\")\n",
    "    print()\n",
    "\n",
    "# Lower part\n",
    "for i in range(n,0,-1):\n",
    "    for j in range(2*n,0,-1):\n",
    "        if j>i and j< 2*n+1-i:\n",
    "            print(\"  \", end=\"\")\n",
    "        else:\n",
    "            print(\"* \", end=\"\")\n",
    "    print()   "
   ]
  },
  {
   "cell_type": "code",
   "execution_count": null,
   "metadata": {},
   "outputs": [],
   "source": [
    "out = 'Hello' and 'World'\n",
    "print(out)\n",
    "\n",
    "'''\n",
    "0 \n",
    "None\n",
    "False\n",
    "''\n",
    "[]\n",
    "()\n",
    "{}\n",
    "'''"
   ]
  },
  {
   "cell_type": "code",
   "execution_count": null,
   "metadata": {},
   "outputs": [],
   "source": [
    "a = \"hello\"\n",
    "b = [4,5]\n",
    "out = not a and b.clear\n",
    "print(out)"
   ]
  },
  {
   "cell_type": "code",
   "execution_count": null,
   "metadata": {},
   "outputs": [],
   "source": [
    "a = \"hello\"\n",
    "b = [4,5]\n",
    "out = b.clear() and a\n",
    "print(out)"
   ]
  },
  {
   "cell_type": "code",
   "execution_count": null,
   "metadata": {},
   "outputs": [],
   "source": [
    "c = 33\n",
    "out = 'result is {}'.format(c)\n",
    "out"
   ]
  },
  {
   "cell_type": "code",
   "execution_count": null,
   "metadata": {},
   "outputs": [],
   "source": [
    "c =33\n",
    "out = f'result is {c}'\n",
    "out"
   ]
  },
  {
   "cell_type": "code",
   "execution_count": null,
   "metadata": {},
   "outputs": [],
   "source": [
    "# Hangman "
   ]
  },
  {
   "cell_type": "markdown",
   "metadata": {},
   "source": [
    "# Hangman \n"
   ]
  },
  {
   "cell_type": "markdown",
   "metadata": {},
   "source": [
    "Course:\n",
    "\n",
    "1. Function\n",
    "2. Modules : MAth,Random,numpy,time...\n",
    "3. File Handling\n",
    "4. Exceptional Handling\n",
    "5. regex"
   ]
  },
  {
   "cell_type": "code",
   "execution_count": null,
   "metadata": {},
   "outputs": [],
   "source": [
    "def func_name(x,y):\n",
    "    area= x*y\n",
    "    parimeter=2*(x+y)\n",
    "    return area, parimeter\n",
    "\n",
    "area,parimeter=func_name(4,6)\n",
    "print(f'Area{area} and perimeter{parimeter}')"
   ]
  },
  {
   "cell_type": "code",
   "execution_count": null,
   "metadata": {},
   "outputs": [],
   "source": [
    "def func_name(r):\n",
    "    a = 3.14 * (r**2)\n",
    "    c = 2*3.14*r\n",
    "    return a,c\n",
    "\n",
    "Area, Circumference = func_name(int(input()))\n",
    "print(f'Area{a} and Circumference{c}')\n"
   ]
  },
  {
   "cell_type": "code",
   "execution_count": null,
   "metadata": {},
   "outputs": [],
   "source": [
    "def power(a,b):\n",
    "    r=1\n",
    "    for i in range (b):\n",
    "        r*=a\n",
    "    return r\n",
    "print(power(2,3))"
   ]
  },
  {
   "cell_type": "code",
   "execution_count": null,
   "metadata": {},
   "outputs": [],
   "source": [
    "def age(x):\n",
    "    if x>=18:\n",
    "        print('He/She is eligible')\n",
    "    else:\n",
    "        print('He,She is not eligible')\n",
    "age=age(int(input()))\n",
    "\n",
    "\n"
   ]
  },
  {
   "cell_type": "code",
   "execution_count": null,
   "metadata": {},
   "outputs": [],
   "source": [
    "def num(x):\n",
    "    if x%x==0:\n",
    "        print(x,'is a prime number')\n",
    "    else:\n",
    "        print(x,'is a not prime number')\n",
    "num=num(int(input()))"
   ]
  },
  {
   "cell_type": "markdown",
   "metadata": {},
   "source": [
    "How to handle optional keyword argument?"
   ]
  },
  {
   "cell_type": "code",
   "execution_count": null,
   "metadata": {},
   "outputs": [],
   "source": [
    "\n",
    "def info(name,rollno,cpi,clg):\n",
    "    tp =f'''\n",
    "    Name : {name}\n",
    "    Roll No. : {rollno}\n",
    "    CPI : {cpi}\n",
    "    College : {clg}\n",
    "    '''\n",
    "    return tp\n",
    "\n",
    "result = info('steeltroops',28,8.5,'GLA')\n",
    "print(result)"
   ]
  },
  {
   "cell_type": "code",
   "execution_count": null,
   "metadata": {},
   "outputs": [],
   "source": [
    "def info(name,rollno,cpi,clg):\n",
    "    tp =f'''\n",
    "    Name : {name}\n",
    "    Roll No. : {rollno}\n",
    "    CPI : {cpi}\n",
    "    College : {clg}\n",
    "    '''\n",
    "    return tp\n",
    "result = info(rollno=28,cpi=8.5,clg='GLA',name='steeltroops')\n",
    "print(result)"
   ]
  },
  {
   "cell_type": "code",
   "execution_count": null,
   "metadata": {},
   "outputs": [],
   "source": [
    "\n",
    "def info(**dct):\n",
    "    tp =f'''\n",
    "    Name : {dct['name']}\n",
    "    Roll No. : {dct['rollno']}\n",
    "    CPI : {['cpi']}\n",
    "    College : {dct['clg']}\n",
    "    '''\n",
    "    return tp\n",
    "\n",
    "result = info('steeltroops',28,8.5,'GLA')\n",
    "print(result)"
   ]
  },
  {
   "cell_type": "code",
   "execution_count": null,
   "metadata": {},
   "outputs": [],
   "source": [
    "def info(**dct):\n",
    "    tp =f'''\n",
    "    Name : {dct.get['name']}\n",
    "    Roll No. : {dct.get['rollno']}\n",
    "    CPI : {dct.get['cpi']}\n",
    "    College : {dct.get['clg']}\n",
    "    '''\n",
    "    return tp\n",
    "\n",
    "result = info('steeltroops',28,8.5,'GLA')\n",
    "print(result)"
   ]
  },
  {
   "cell_type": "code",
   "execution_count": null,
   "metadata": {},
   "outputs": [],
   "source": [
    "def function(a,b,*c):\n",
    "    print(c,type(c))\n",
    "\n",
    "function(3,4,2,45,'hola')   #positional Arguments\n"
   ]
  },
  {
   "cell_type": "code",
   "execution_count": null,
   "metadata": {},
   "outputs": [],
   "source": [
    "def function(*c):   #optional positional Argument\n",
    "    print(c)\n",
    "\n",
    "out = function(3)   \n",
    "print(out)"
   ]
  },
  {
   "cell_type": "code",
   "execution_count": null,
   "metadata": {},
   "outputs": [],
   "source": [
    "def function(*c):   #optional positional Argument\n",
    "    s=0\n",
    "    for i in c:\n",
    "        s+=1\n",
    "    return s\n",
    "\n",
    "out = function(3,6)   \n",
    "print(out)"
   ]
  },
  {
   "cell_type": "code",
   "execution_count": null,
   "metadata": {},
   "outputs": [],
   "source": [
    "dct={'name':\"steeltroops\",\"roll no.\":28}\n",
    "lst = ['steeltroops',55]\n",
    "\n",
    "lst[0]\n",
    "dct['name']"
   ]
  },
  {
   "cell_type": "markdown",
   "metadata": {},
   "source": [
    "Variable Scope\n",
    "\n",
    "1. Local Variable\n",
    "2. Global Variable\n",
    "3. Non Local Variable"
   ]
  },
  {
   "cell_type": "code",
   "execution_count": null,
   "metadata": {},
   "outputs": [],
   "source": [
    "#LOcal VAriable\n",
    "def fun():\n",
    "    y=\"local\"\n",
    "fun()\n",
    "print(y)"
   ]
  },
  {
   "cell_type": "code",
   "execution_count": null,
   "metadata": {},
   "outputs": [],
   "source": [
    "#Global Variable\n",
    "x=\"global\"\n",
    "def fun():\n",
    "    global x\n",
    "    y = \"local\"\n",
    "    x = x* 2\n",
    "    print(x)\n",
    "    print(y)\n",
    "fun()\n",
    "print(x)"
   ]
  },
  {
   "cell_type": "code",
   "execution_count": null,
   "metadata": {},
   "outputs": [],
   "source": [
    "#Global and Local\n",
    "def fun():\n",
    "    var =10\n",
    "    print(var)\n",
    "var=0\n",
    "fun()\n",
    "print(var)"
   ]
  },
  {
   "cell_type": "code",
   "execution_count": null,
   "metadata": {},
   "outputs": [],
   "source": [
    "def fun():\n",
    "    global var\n",
    "    var =10\n",
    "    print(var)\n",
    "var=0\n",
    "fun()\n",
    "print(var)"
   ]
  },
  {
   "cell_type": "code",
   "execution_count": null,
   "metadata": {},
   "outputs": [],
   "source": [
    "def fun():   #it can only read data from global env\n",
    "    print(var)\n",
    "var=0\n",
    "fun()\n",
    "print(var)"
   ]
  },
  {
   "cell_type": "code",
   "execution_count": null,
   "metadata": {},
   "outputs": [],
   "source": [
    "#Non Local\n",
    "def outer():\n",
    "    x=\"local\"\n",
    "    def inner():\n",
    "        nonlocal x\n",
    "        x = \"nonlocal\"\n",
    "        print(\"inner:\",x)\n",
    "    inner()\n",
    "    print(\"outer:\",x)\n",
    "outer()    "
   ]
  },
  {
   "cell_type": "code",
   "execution_count": null,
   "metadata": {},
   "outputs": [],
   "source": [
    "#If we remove Non Local\n",
    "def outer():\n",
    "    x=\"local\"\n",
    "    def inner():\n",
    "        x = \"nonlocal\"\n",
    "        print(\"inner:\",x)\n",
    "    inner()\n",
    "    print(\"outer:\",x)\n",
    "outer()    "
   ]
  },
  {
   "cell_type": "code",
   "execution_count": null,
   "metadata": {},
   "outputs": [],
   "source": [
    "def outer():\n",
    "    def inner1():\n",
    "        a=10        #local\n",
    "    def inner2():\n",
    "        a=40\n",
    "    def inner3():\n",
    "        a=100\n",
    "    a=0         # Non Local Variable\n",
    "    inner1()\n",
    "    print(a)\n",
    "    inner2()\n",
    "    print(a)\n",
    "    inner3()\n",
    "    print(a)\n",
    "a=1         #global variable\n",
    "outer()\n",
    "print(a)"
   ]
  },
  {
   "cell_type": "code",
   "execution_count": null,
   "metadata": {},
   "outputs": [],
   "source": [
    "def outer():\n",
    "    def inner1():\n",
    "        a=10     #local\n",
    "    def inner2():\n",
    "        nonlocal a\n",
    "        a=40\n",
    "    def inner3():\n",
    "        global a\n",
    "        a=100\n",
    "    a=0         # Non Local Variable\n",
    "    inner1()\n",
    "    print(a)\n",
    "    inner2()\n",
    "    print(a)\n",
    "    inner3()\n",
    "    print(a)\n",
    "a=1      #global variable\n",
    "outer()\n",
    "print(a)"
   ]
  },
  {
   "cell_type": "code",
   "execution_count": null,
   "metadata": {},
   "outputs": [],
   "source": [
    "a=10\n",
    "b=20\n",
    "mx=a if a > b else b\n",
    "print(mx)"
   ]
  },
  {
   "cell_type": "code",
   "execution_count": null,
   "metadata": {},
   "outputs": [],
   "source": [
    "#Lambda:\n",
    "\n",
    "def add(a,b):\n",
    "    return(a+b)\n",
    " \n",
    "out=add(3,6)\n",
    "print(out)"
   ]
  },
  {
   "cell_type": "markdown",
   "metadata": {},
   "source": [
    "Lambda is a anonymous function:\n",
    "We don't use return function in Lambda function."
   ]
  },
  {
   "cell_type": "code",
   "execution_count": null,
   "metadata": {},
   "outputs": [],
   "source": [
    "add=lambda a,b: a+b\n",
    "out=add(3,6)\n",
    "print(out)\n"
   ]
  },
  {
   "cell_type": "code",
   "execution_count": null,
   "metadata": {},
   "outputs": [],
   "source": [
    "def add(a,b):\n",
    "    return(a+b)\n",
    "add=lambda a,b: a+b\n",
    " \n",
    "out=add(3,6)\n",
    "print(out)"
   ]
  },
  {
   "cell_type": "markdown",
   "metadata": {},
   "source": [
    "Sorting List of Strings"
   ]
  },
  {
   "cell_type": "code",
   "execution_count": null,
   "metadata": {},
   "outputs": [],
   "source": [
    "def my_fun(x):\n",
    "    return x[-1]\n",
    "my_fun=lambda x:x[-1]\n",
    "\n",
    "lst=['adity','ravi','adi','priyanka']\n",
    "lst.sort(key=my_fun)\n",
    "print(lst)\n",
    "\n",
    "for i in lst:\n",
    "    "
   ]
  },
  {
   "cell_type": "code",
   "execution_count": null,
   "metadata": {},
   "outputs": [],
   "source": [
    "#using lambda\n",
    "\n",
    "lst=['adity','ravi','adi','priyanka']\n",
    "lst.sort(key=lambda x:x[-1])\n",
    "print(lst)"
   ]
  },
  {
   "cell_type": "code",
   "execution_count": null,
   "metadata": {},
   "outputs": [],
   "source": [
    "def my_fun(x):\n",
    "    s=sum([ord(i) for i in x])\n",
    "\n",
    "lst = ['adity','ravi','adi','priyanka']\n",
    "lst.sort(key=my_fun)"
   ]
  },
  {
   "cell_type": "code",
   "execution_count": null,
   "metadata": {},
   "outputs": [],
   "source": [
    "lst = ['adity','ravi','adi','priyanka']\n",
    "lst.sort(key=lambda x: sum([ord(i) for i in x]))\n",
    "print(lst)"
   ]
  },
  {
   "cell_type": "code",
   "execution_count": null,
   "metadata": {},
   "outputs": [],
   "source": [
    "lst = ['adity','ravi','adi','priyanka']\n",
    "res = sorted(lst, key=lambda sub: ord(max(sub)))\n",
    "print(str(res))"
   ]
  },
  {
   "cell_type": "code",
   "execution_count": null,
   "metadata": {},
   "outputs": [],
   "source": [
    "marks = [23,5,6,7,10,23]\n",
    "lst=[]\n",
    "for i in marks:\n",
    "    lst.append(i-5)\n",
    "print(lst)"
   ]
  },
  {
   "cell_type": "code",
   "execution_count": null,
   "metadata": {},
   "outputs": [],
   "source": [
    "marks = [23,5,6,7,10,23]\n",
    "lst=list(map(lambda x:x-5,marks))\n",
    "print(lst)"
   ]
  },
  {
   "cell_type": "code",
   "execution_count": null,
   "metadata": {},
   "outputs": [],
   "source": [
    "def add():\n",
    "    a=12 #local\n",
    "    def inner1():\n",
    "        nonlocal a\n",
    "        a=10\n",
    "    inner1(a)\n",
    "    print(a)\n",
    "\n",
    "a=100  #global\n",
    "add()\n",
    "print(a)"
   ]
  },
  {
   "cell_type": "markdown",
   "metadata": {},
   "source": [
    "# File Handling\n"
   ]
  },
  {
   "cell_type": "markdown",
   "metadata": {},
   "source": [
    "Reading and writing operations in python is called file  handling.\n",
    "\n",
    "it is mechanism by which we can read data of disk files or write back data from"
   ]
  },
  {
   "cell_type": "code",
   "execution_count": null,
   "metadata": {},
   "outputs": [],
   "source": [
    "path='C:\\\\Omniverse\\\\Python Class\\\\Class\\\\Python Projects\\\\Python r files\\\\info.txt'\n",
    "f=open(path, 'w')\n",
    "info=\"\"\"\n",
    "Name:Steeltroops\n",
    "Roll:28\n",
    "CPI:8.0\n",
    "Address:GLA University\n",
    "\"\"\"\n",
    "f.write(info)\n",
    "f.close()"
   ]
  },
  {
   "cell_type": "code",
   "execution_count": null,
   "metadata": {},
   "outputs": [],
   "source": [
    "path=r'C:\\Omniverse\\Python Class\\Class\\Python Projects\\Python r files\\table.txt'\n",
    "f=open(path, 'w')\n",
    "\n",
    "num = int(input())\n",
    "for i in range(1, 11):\n",
    "    for j in range(1,num+1):\n",
    "        f.write(str(i*j)+'\\t')\n",
    "    f.write('\\n')\n",
    "f.close()"
   ]
  },
  {
   "cell_type": "code",
   "execution_count": null,
   "metadata": {},
   "outputs": [],
   "source": [
    "#WAP to read the n numbers of names from the user and write it in a file.\n",
    "\n",
    "path=r\"C:\\Omniverse\\Python Class\\Class\\Python Projects\\Python r files\\Username.txt\"\n",
    "f=open(path,'w')\n",
    "n=int(input(\"Enter the names:\"))\n",
    "ls=[]\n",
    "for i in range(n):\n",
    "    print(f'Enter the Name {i+1}')\n",
    "    name=input()\n",
    "    f.write('\\n')\n",
    "f.writelines(ls)\n",
    "f.close()"
   ]
  },
  {
   "cell_type": "code",
   "execution_count": null,
   "metadata": {},
   "outputs": [],
   "source": [
    "#WAP to add history in Calculator.\n",
    "import time\n",
    "def Add(a,b):\n",
    "    return(a+b)\n",
    "\n",
    "def Sub(a,b):\n",
    "    return(a-b)\n",
    "\n",
    "def  Multi(a,b):\n",
    "    return(a*b)\n",
    "\n",
    "def Div(a,b):\n",
    "    return(a/b)\n",
    "\n",
    "num1=float(input(\"Enter the first number:\"))\n",
    "num2=float(input(\"Enter the second number:\"))\n",
    "\n",
    "choices='''\n",
    "Choices\n",
    "1>Add\n",
    "2>Sub\n",
    "3>Mul\n",
    "4>Div\n",
    "'''\n",
    "print(choices)\n",
    "choice=input(\"Enter the choice from 1 to 4 :\")\n",
    "op=None\n",
    "re=None\n",
    "f=open(r'C:\\Omniverse\\Python Class\\Class\\Python Projects\\Python r files\\calc.txt','w')\n",
    "\n",
    "if choice == '1':\n",
    "    op='Addition'\n",
    "    re=Add(num1,num2)\n",
    "\n",
    "elif choice == '2':\n",
    "    op=\"Substract\"\n",
    "    re=(num1,num2)\n",
    "\n",
    "elif choice == '3':\n",
    "    op='Multiplication'\n",
    "    re=Multi(num1,num2)\n",
    "\n",
    "elif choice == '4':\n",
    "    op=\"Division\"\n",
    "    re=Div(num1,num2)\n",
    "\n",
    "else:\n",
    "    print(\"Enter the right choice:\")\n",
    "\n",
    "\n",
    "tmp=f'{num1}\\t{num2}\\t{op}\\t{re}\\t{time.asctime()}\\n'\n",
    "f.write(tmp)\n",
    "f.close()"
   ]
  },
  {
   "cell_type": "markdown",
   "metadata": {},
   "source": [
    "\n",
    "# Writing Operation:\n",
    "We have two methods while we perform the writing operation.\n",
    "\n",
    "1. write():string\n",
    "\n",
    "2. writelines(): list of strings\n",
    "   \n",
    "# Reading Operations:\n",
    "\n",
    "1.read():   read the entire file data  in the form of string if n is not specified.\n",
    "\n",
    "2.readline():   read the current line.\n",
    "\n",
    "3.readlines():  read the entire file data in the form of list of lines."
   ]
  },
  {
   "cell_type": "code",
   "execution_count": null,
   "metadata": {},
   "outputs": [],
   "source": [
    "#read()\n",
    "f=open(r\"C:\\Omniverse\\Python Class\\Class\\Python Projects\\Python r files\\info.txt\",'r')\n",
    "\n",
    "data = f.read()\n",
    "print(data)\n",
    "f.close()"
   ]
  },
  {
   "cell_type": "code",
   "execution_count": null,
   "metadata": {},
   "outputs": [],
   "source": [
    "f=open(r\"C:\\Omniverse\\Python Class\\Class\\Python Projects\\Python r files\\info.txt\",'r')\n",
    "\n",
    "data = f.readline()\n",
    "print(data)\n",
    "f.close()"
   ]
  },
  {
   "cell_type": "code",
   "execution_count": null,
   "metadata": {},
   "outputs": [],
   "source": [
    "f=open(r\"C:\\Omniverse\\Python Class\\Class\\Python Projects\\Python r files\\info.txt\",'r')\n",
    "\n",
    "data = f.readlines()\n",
    "print(data)\n",
    "f.close()"
   ]
  },
  {
   "cell_type": "code",
   "execution_count": null,
   "metadata": {},
   "outputs": [],
   "source": [
    "f=open(r\"C:\\Omniverse\\Python Class\\Class\\Python Projects\\Python r files\\info.txt\",'r')\n",
    "\n",
    "data = f.read(3)\n",
    "data2=f.read(2)\n",
    "print(data2)\n",
    "f.close()"
   ]
  },
  {
   "cell_type": "code",
   "execution_count": null,
   "metadata": {},
   "outputs": [],
   "source": [
    "f=open(r\"C:\\Omniverse\\Python Class\\Class\\Python Projects\\Python r files\\info.txt\",'r')\n",
    "\n",
    "data=f.read()\n",
    "data.count('a')"
   ]
  },
  {
   "cell_type": "code",
   "execution_count": null,
   "metadata": {},
   "outputs": [],
   "source": [
    "f=open(r\"C:\\Omniverse\\Python Class\\Class\\Python Projects\\Python r files\\info.txt\",'r')\n",
    "data=f.read()\n",
    "print(data.replace('i','e'))"
   ]
  },
  {
   "cell_type": "code",
   "execution_count": null,
   "metadata": {},
   "outputs": [],
   "source": [
    "# Enter your code here. Read input from STDIN. Print output to STDOUT\n",
    "num=input()\n",
    "count=0\n",
    "\n",
    "while num != '6174':\n",
    "    x=int(''.join(sorted(n,reverse=True))) #['8','2','4','7']\n",
    "    y=int(''.join(sorted(num)))\n",
    "    num=str(x-y)\n",
    "    count += 1\n",
    "    a\n",
    "print(count)\n"
   ]
  },
  {
   "cell_type": "code",
   "execution_count": null,
   "metadata": {},
   "outputs": [],
   "source": [
    "dt=eval(input())\n",
    "l1=[]\n",
    "l2=[]\n",
    "for i in dt:\n",
    "    if dt[i]<20 or dt[i]>40:\n",
    "        l1.append(i)\n",
    "    else:\n",
    "        l2.append(i)\n",
    "        \n",
    "l1.sort()\n",
    "l2.sort()\n",
    "\n",
    "out=f'[\\n{l1},\\n{l2}]'\n",
    "print(out)"
   ]
  },
  {
   "cell_type": "markdown",
   "metadata": {},
   "source": [
    "# Modules\n",
    "Modules are files containing Python definitions and statements."
   ]
  },
  {
   "cell_type": "code",
   "execution_count": null,
   "metadata": {},
   "outputs": [],
   "source": [
    "import random\n",
    "ls=['ravi','abhishek','steeltroops']\n",
    "out=random.choice(ls)\n",
    "print(out)"
   ]
  },
  {
   "cell_type": "code",
   "execution_count": null,
   "metadata": {},
   "outputs": [],
   "source": [
    "import moduleNum  #1\n",
    "\n",
    "num=int(input())\n",
    "out=moduleNum.prime(num)\n",
    "out2=moduleNum.perfect(num)\n",
    "print(out,out2)"
   ]
  },
  {
   "cell_type": "code",
   "execution_count": null,
   "metadata": {},
   "outputs": [],
   "source": [
    "from moduleNum import perfect,prime   #2\n",
    "\n",
    "num=int(input())\n",
    "out=moduleNum.prime(num)\n",
    "out2=moduleNum.perfect(num)\n",
    "print(out,out2)"
   ]
  },
  {
   "cell_type": "code",
   "execution_count": null,
   "metadata": {},
   "outputs": [],
   "source": [
    "from moduleNum import *  #3\n",
    "num=int(input())\n",
    "out=moduleNum.prime(num)\n",
    "out2=moduleNum.perfect(num)\n",
    "print(out,out2)"
   ]
  },
  {
   "cell_type": "code",
   "execution_count": null,
   "metadata": {},
   "outputs": [],
   "source": [
    "print(dir(moduleNum))"
   ]
  },
  {
   "cell_type": "code",
   "execution_count": null,
   "metadata": {},
   "outputs": [],
   "source": [
    "import random\n",
    "random.random\n",
    "random.choice\n",
    "random.choices\n",
    "random.betavariate\n",
    "random.expovariate\n",
    "random.gauss\n",
    "random.getstate\n",
    "random.randint\n",
    "random.shuffle\n",
    "random.paretovariate\n",
    "random.gammavariate\n",
    "random.randrange\n",
    "random.randbytes"
   ]
  },
  {
   "cell_type": "code",
   "execution_count": null,
   "metadata": {},
   "outputs": [],
   "source": [
    "import random\n",
    "\n",
    "num=random.randint(1,10)\n",
    "print(num)"
   ]
  },
  {
   "cell_type": "code",
   "execution_count": null,
   "metadata": {},
   "outputs": [],
   "source": [
    "num=random.randrange(1,10,2)\n",
    "print(num)"
   ]
  },
  {
   "cell_type": "code",
   "execution_count": null,
   "metadata": {},
   "outputs": [],
   "source": [
    "#wite a program to generate 4 digit otp\n",
    "import random               #methode 1\n",
    "otp=random.randint(1000,9999)\n",
    "print(otp)"
   ]
  },
  {
   "cell_type": "code",
   "execution_count": null,
   "metadata": {},
   "outputs": [],
   "source": [
    "#methode 2\n",
    "num=random.random()\n",
    "otp=str(num)[-6:1]\n",
    "print(otp)"
   ]
  },
  {
   "cell_type": "code",
   "execution_count": null,
   "metadata": {},
   "outputs": [],
   "source": [
    "num=random.getrandbits(8)\n",
    "print(num)"
   ]
  },
  {
   "cell_type": "code",
   "execution_count": null,
   "metadata": {},
   "outputs": [],
   "source": [
    "lst=['levi','Hodaka','steeltroops']\n",
    "name=random.choice(lst)\n",
    "print(name)"
   ]
  },
  {
   "cell_type": "code",
   "execution_count": null,
   "metadata": {},
   "outputs": [],
   "source": [
    "lst=['levi','Hodaka','steeltroops']\n",
    "lst2=random.choices(lst,k=7)\n",
    "print(lst2)"
   ]
  },
  {
   "cell_type": "code",
   "execution_count": null,
   "metadata": {},
   "outputs": [],
   "source": [
    "lst=['levi','Hodaka','steeltroops']\n",
    "lst2=random.choices(lst,[1,1,2],k=5)        #Weight\n",
    "print(lst2)"
   ]
  },
  {
   "cell_type": "code",
   "execution_count": null,
   "metadata": {},
   "outputs": [],
   "source": [
    "lst=['levi','Hodaka','steeltroops']\n",
    "print(lst)\n",
    "random.shuffle(lst)\n",
    "print(lst)"
   ]
  },
  {
   "cell_type": "code",
   "execution_count": null,
   "metadata": {},
   "outputs": [],
   "source": [
    "lst=['levi','Hodaka','steeltroops']\n",
    "lst2=random.sample(lst,k=2)\n",
    "print(lst2)"
   ]
  },
  {
   "cell_type": "code",
   "execution_count": null,
   "metadata": {},
   "outputs": [],
   "source": [
    "#uniform\n",
    "num=random.uniform(1,7)\n",
    "print(num)"
   ]
  },
  {
   "cell_type": "code",
   "execution_count": null,
   "metadata": {},
   "outputs": [],
   "source": [
    "num=random.triangular(10,99,21)\n",
    "print(num)"
   ]
  },
  {
   "cell_type": "code",
   "execution_count": null,
   "metadata": {},
   "outputs": [],
   "source": [
    "lst=['levi','Hodaka','steeltroops']\n",
    "random.choice(lst)"
   ]
  },
  {
   "cell_type": "code",
   "execution_count": null,
   "metadata": {},
   "outputs": [],
   "source": [
    "num=random.triangular(1,100,21)\n",
    "num=int(num)\n",
    "print(num)\n",
    "n=int(input(\"Enter your Guess:\"))\n",
    "if n==num:\n",
    "    print(\"You Won!\")\n",
    "else:\n",
    "    print(\"Guess Again.\")"
   ]
  },
  {
   "cell_type": "code",
   "execution_count": null,
   "metadata": {},
   "outputs": [],
   "source": [
    "import random as r\n",
    "rnum=r.randint(1,100)\n",
    "count=0\n",
    "while 1:\n",
    "    num=int(input(\"Guess the number.\"))\n",
    "    count += 1\n",
    "    if num>rnum:\n",
    "        print(\"Number is small.\")\n",
    "    elif num<rnum:\n",
    "        print(\"Number is Large.\")\n",
    "    else:\n",
    "        print(f'Right Guess You win with count: {count}')\n",
    "        break\n",
    "\n"
   ]
  },
  {
   "cell_type": "code",
   "execution_count": null,
   "metadata": {},
   "outputs": [],
   "source": [
    "import math\n",
    "\n",
    "print(math.sqrt(17))\n",
    "math.ceil(10.01)"
   ]
  },
  {
   "cell_type": "markdown",
   "metadata": {},
   "source": [
    "# numpy"
   ]
  },
  {
   "cell_type": "code",
   "execution_count": null,
   "metadata": {},
   "outputs": [],
   "source": [
    "import numpy as np\n",
    "ls=[1,3,6,7,89,21]\n",
    "print(ls, type(ls))\n",
    "arr=np.array(ls)\n",
    "arr=arr.reshape(2,3)\n",
    "arr.shape=3,2\n",
    "print(arr, type(arr))"
   ]
  },
  {
   "cell_type": "code",
   "execution_count": null,
   "metadata": {},
   "outputs": [],
   "source": [
    "import numpy as np\n",
    "lst=[10000,23,43,63,-1]\n",
    "arr=np.array(lst,dtype='unit8')\n",
    "print(arr)"
   ]
  },
  {
   "cell_type": "code",
   "execution_count": null,
   "metadata": {},
   "outputs": [],
   "source": [
    "#write a function to check if the given list is sorted or not\n",
    "def sort_check(ls):\n",
    "    return sorted(ls)==ls\n",
    "lst=list(map(int,input().split()))\n",
    "out=sort_check(lst)\n",
    "print(out)"
   ]
  },
  {
   "cell_type": "code",
   "execution_count": null,
   "metadata": {},
   "outputs": [],
   "source": [
    "#For descending Order\n",
    "def sort_check(ls):\n",
    "    return sorted(ls, reverse=True)==ls\n",
    "lst=list(map(int,input().split()))\n",
    "out=sort_check(lst)\n",
    "print(out)"
   ]
  },
  {
   "cell_type": "code",
   "execution_count": null,
   "metadata": {},
   "outputs": [],
   "source": [
    "#For both ascending and descending order\n",
    "def sort_check(ls):\n",
    "    a=sorted(ls, reverse=True)==ls\n",
    "    b=sorted(ls)==ls\n",
    "    if a:\n",
    "        return \"Descending\"\n",
    "    elif b:\n",
    "        return \"Asscending\"\n",
    "    else:\n",
    "        return \"Not Sorted\"\n",
    "lst=list(map(int,input().split()))\n",
    "out=sort_check(lst)\n",
    "print(out)"
   ]
  },
  {
   "cell_type": "code",
   "execution_count": null,
   "metadata": {},
   "outputs": [],
   "source": [
    "#For both ascending and descending order\n",
    "def sort_check(ls):\n",
    "    a=sorted(ls, reverse=True)==ls\n",
    "    b=sorted(ls)==ls\n",
    "    return\n",
    "lst=list(map(int,input().split()))\n",
    "out=sort_check(lst)\n",
    "print(out)"
   ]
  },
  {
   "cell_type": "code",
   "execution_count": null,
   "metadata": {},
   "outputs": [
    {
     "name": "stdout",
     "output_type": "stream",
     "text": [
      "    H    \n",
      "   HHH   \n",
      "  HHHHH  \n",
      " HHHHHHH \n",
      "HHHHHHHHH\n",
      "  HHHHH               HHHHH             \n",
      "  HHHHH               HHHHH             \n",
      "  HHHHH               HHHHH             \n",
      "  HHHHH               HHHHH             \n",
      "  HHHHH               HHHHH             \n",
      "  HHHHH               HHHHH             \n",
      "  HHHHHHHHHHHHHHHHHHHHHHHHH   \n",
      "  HHHHHHHHHHHHHHHHHHHHHHHHH   \n",
      "  HHHHHHHHHHHHHHHHHHHHHHHHH   \n",
      "  HHHHH               HHHHH             \n",
      "  HHHHH               HHHHH             \n",
      "  HHHHH               HHHHH             \n",
      "  HHHHH               HHHHH             \n",
      "  HHHHH               HHHHH             \n",
      "  HHHHH               HHHHH             \n",
      "                    HHHHHHHHH \n",
      "                     HHHHHHH  \n",
      "                      HHHHH   \n",
      "                       HHH    \n",
      "                        H     \n"
     ]
    }
   ],
   "source": [
    "thickness = int(input()) #This must be an odd number\n",
    "c = 'H'\n",
    "\n",
    "#Top Cone\n",
    "for i in range(thickness):\n",
    "    print((c*i).rjust(thickness-1)+c+(c*i).ljust(thickness-1))\n",
    "\n",
    "#Top Pillars\n",
    "for i in range(thickness+1):\n",
    "    print((c*thickness).center(thickness*2)+(c*thickness).center(thickness*6))\n",
    "\n",
    "#Middle Belt\n",
    "for i in range((thickness+1)//2):\n",
    "    print((c*thickness*5).center(thickness*6))\n",
    "\n",
    "#Bottom Pillars\n",
    "for i in range(thickness+1):\n",
    "    print((c*thickness).center(thickness*2)+(c*thickness).center(thickness*6))\n",
    "\n",
    "#Bottom Cone\n",
    "for i in range(thickness):\n",
    "    print(((c*(thickness-i-1)).rjust(thickness)+c+(c*(thickness-i-1)).ljust(thickness)).rjust(thickness*6))"
   ]
  },
  {
   "cell_type": "markdown",
   "metadata": {},
   "source": [
    "# Exception Handling\n",
    "\n",
    "Errors in Programming\n",
    "1.Syntax Errors :\n",
    "2.Exceptions : during the execution can be handled"
   ]
  },
  {
   "cell_type": "code",
   "execution_count": null,
   "metadata": {},
   "outputs": [
    {
     "name": "stdout",
     "output_type": "stream",
     "text": [
      "100\n",
      "300\n",
      "400\n"
     ]
    }
   ],
   "source": [
    "try:\n",
    "    print(100)\n",
    "    print(5/0)\n",
    "    print(200)\n",
    "except ZeroDivisionError:\n",
    "    print(300)\n",
    "finally:\n",
    "    print(400)"
   ]
  },
  {
   "cell_type": "code",
   "execution_count": null,
   "metadata": {},
   "outputs": [],
   "source": []
  }
 ],
 "metadata": {
  "kernelspec": {
   "display_name": "Python 3.9.13 ('base')",
   "language": "python",
   "name": "python3"
  },
  "language_info": {
   "codemirror_mode": {
    "name": "ipython",
    "version": 3
   },
   "file_extension": ".py",
   "mimetype": "text/x-python",
   "name": "python",
   "nbconvert_exporter": "python",
   "pygments_lexer": "ipython3",
   "version": "3.9.13"
  },
  "orig_nbformat": 4,
  "vscode": {
   "interpreter": {
    "hash": "b3e0e0fc4c3b1807e01c5612f493dc5a14ad9737293e4ea347fe8a9f0c3f8e07"
   }
  }
 },
 "nbformat": 4,
 "nbformat_minor": 2
}
