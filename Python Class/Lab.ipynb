{
 "cells": [
  {
   "cell_type": "markdown",
   "metadata": {},
   "source": [
    "# Pattern Printing"
   ]
  },
  {
   "cell_type": "code",
   "execution_count": null,
   "metadata": {},
   "outputs": [],
   "source": [
    "row = int(input('enter the string'))\n",
    "for i in range(1,row+1):\n",
    "    print(\"*\"*i)"
   ]
  },
  {
   "cell_type": "code",
   "execution_count": null,
   "metadata": {},
   "outputs": [],
   "source": [
    "row = int(input('enter the string'))\n",
    "for i in range(1,row+1):\n",
    "    for j in range(1, row+1):\n",
    "        print(\"*\",end='')\n",
    "\n",
    "    print()"
   ]
  },
  {
   "cell_type": "code",
   "execution_count": null,
   "metadata": {},
   "outputs": [],
   "source": [
    "row = int(input('enter the string'))\n",
    "import time\n",
    "for i in range(1,row+1):\n",
    "    for j in range(1,row-i+1):\n",
    "        print(' ', end='')\n",
    "\n",
    "    for i in range(1, i+1):\n",
    "        print(\"*\",end='')\n",
    "    for i in range(1,i+1):\n",
    "        print('*', end='')\n",
    "\n",
    "    print()"
   ]
  },
  {
   "cell_type": "code",
   "execution_count": null,
   "metadata": {},
   "outputs": [],
   "source": [
    "def contalpha(n):\n",
    "\tnum = 65\n",
    "for i in range(0, n):\n",
    "\tfor j in range(0, i+1):\n",
    "\t\tch = chr(num)\n",
    "\t\tprint(ch, end=\" \")\n",
    "\t\tnum = num +1\n",
    "\t\tprint(\"\\r\")\n",
    "n = 5\n",
    "contalpha(n)\n"
   ]
  },
  {
   "cell_type": "code",
   "execution_count": null,
   "metadata": {},
   "outputs": [],
   "source": [
    "row = int(input('enter the string'))\n",
    "for i in range(row+1):\n",
    "    print(\"*\"*i)"
   ]
  },
  {
   "cell_type": "code",
   "execution_count": null,
   "metadata": {},
   "outputs": [],
   "source": [
    "rows = int(input(\"Enter number of rows: \"))\n",
    "\n",
    "for i in range(rows, 1, -1):\n",
    "    for space in range(0, rows-i):\n",
    "        print(\" \", end=\"\")\n",
    "    for j in range(i, 2*i-1):\n",
    "        print(\"*\", end=\"\")\n",
    "\n",
    "        print()"
   ]
  },
  {
   "cell_type": "code",
   "execution_count": null,
   "metadata": {},
   "outputs": [],
   "source": [
    "row = int(input('enter the string'))\n",
    "for i in range(1,row+1):\n",
    "    for j in range(1, i+row+1):\n",
    "        print(j,end=' ')\n",
    "\n",
    "    print()"
   ]
  },
  {
   "cell_type": "code",
   "execution_count": null,
   "metadata": {},
   "outputs": [],
   "source": [
    "rows = int(input())\n",
    "b = 1\n",
    "\n",
    "for i in range(1, rows+1):\n",
    "    for j in range(1, i+1):\n",
    "        print(b, end=\" \")\n",
    "\n",
    "        b += 1\n",
    "    print()"
   ]
  },
  {
   "cell_type": "code",
   "execution_count": null,
   "metadata": {},
   "outputs": [],
   "source": [
    "\n",
    "size = 7\n",
    "m = (2 * size)-2\n",
    "for i in range(0, size):\n",
    "    for j in range(0, m):\n",
    "        print(end='')\n",
    "    m = m - 1 \n",
    "    for j in range(0, i + 1):\n",
    "        print('*', end='')\n",
    "\n",
    "    print()"
   ]
  },
  {
   "cell_type": "code",
   "execution_count": null,
   "metadata": {},
   "outputs": [],
   "source": [
    "row = int(input(\"Enter number of rows (even): \"))\n",
    "n = row//2\n",
    "\n",
    "for i in range(1,n+1):\n",
    "    for j in range(1,2*n+1):\n",
    "        if j>i and j< 2*n+1-i:\n",
    "            print(\"  \", end=\"\")\n",
    "        else:\n",
    "            print(\"* \", end=\"\")\n",
    "    print()\n",
    "\n",
    "for i in range(n,0,-1):\n",
    "    for j in range(2*n,0,-1):\n",
    "        if j>i and j< 2*n+1-i:\n",
    "            print(\"  \", end=\"\")\n",
    "        else:\n",
    "            print(\"* \", end=\"\")\n",
    "    print()   "
   ]
  },
  {
   "cell_type": "code",
   "execution_count": null,
   "metadata": {},
   "outputs": [],
   "source": [
    "row=int(input())\n",
    "n=row//2\n",
    "\n",
    "for i in range(1,n+1):\n",
    "    for j in range(1,2*n+1):\n",
    "        if j>i and j< 2*n+1-i:\n",
    "            print(\"  \",end=\"\")\n",
    "        else:\n",
    "            print(\"* \",end=\"\")\n",
    "    print()\n",
    "\n",
    "\n",
    "for i in range(n,0,-1):\n",
    "    for j in range(2*n,0,-1):\n",
    "        if j>i and j< 2*n+1-i:\n",
    "            print(\"  \",end=\"\")\n",
    "        else:\n",
    "            print(\"* \",end=\"\")\n",
    "    print()"
   ]
  },
  {
   "cell_type": "code",
   "execution_count": null,
   "metadata": {},
   "outputs": [],
   "source": [
    "row=int(input())\n",
    "n=row//2\n",
    "\n",
    "for i in range(1,n+1):\n",
    "    for j in range(1,2*n+1):\n",
    "        if j>i and j<2*n+1-i:\n",
    "            print(\"  \",end=\"\")\n",
    "        else:\n",
    "            print(\"* \",end=\"\")\n",
    "    print()\n",
    "\n",
    "\n",
    "for i in range(n,0,-1):\n",
    "    for j in range(2*n,0,-1):\n",
    "        if j>i and j< 2*n+1-i:\n",
    "            print(\"  \",end=\"\")\n",
    "        else:\n",
    "            print(\"* \",end=\"\")\n",
    "    print()"
   ]
  },
  {
   "cell_type": "code",
   "execution_count": null,
   "metadata": {},
   "outputs": [],
   "source": [
    "row=int(input(\"enter the number of rows:\"))\n",
    "\n",
    "for i in range(0,n):\n",
    "    for j in range(0,i+1):\n",
    "        print(\"*\",end=\" \")\n",
    "        \n",
    "    print()"
   ]
  },
  {
   "cell_type": "code",
   "execution_count": null,
   "metadata": {},
   "outputs": [],
   "source": [
    "['GLA']*2"
   ]
  },
  {
   "cell_type": "code",
   "execution_count": null,
   "metadata": {},
   "outputs": [],
   "source": [
    "nums=set([1,1,2,2,3,3,4])\n",
    "print(len(nums))"
   ]
  },
  {
   "cell_type": "code",
   "execution_count": null,
   "metadata": {},
   "outputs": [],
   "source": [
    "nums=set([1,1,2,2,3,3,4])\n",
    "print(nums.cout(3))"
   ]
  },
  {
   "cell_type": "code",
   "execution_count": null,
   "metadata": {},
   "outputs": [],
   "source": [
    "str=\"John is a good student\"\n",
    "print(str.split(' ',2))"
   ]
  },
  {
   "cell_type": "code",
   "execution_count": null,
   "metadata": {},
   "outputs": [],
   "source": [
    "m=([100,200,300,400])\n",
    "m.insert[500:2]\n",
    "print(m)"
   ]
  },
  {
   "cell_type": "code",
   "execution_count": null,
   "metadata": {},
   "outputs": [],
   "source": [
    "m=(400,500,600)\n",
    "m[0]=4\n",
    "print(m)"
   ]
  },
  {
   "cell_type": "code",
   "execution_count": null,
   "metadata": {},
   "outputs": [],
   "source": [
    "t=(1,5,8,9)\n",
    "print(t[1:-1])"
   ]
  },
  {
   "cell_type": "code",
   "execution_count": null,
   "metadata": {},
   "outputs": [],
   "source": [
    "def func( x=1, y=2):\n",
    "    x = x+y\n",
    "    y += 1\n",
    "print(x,y)\n",
    "func(y=2,x=1)"
   ]
  },
  {
   "cell_type": "code",
   "execution_count": null,
   "metadata": {},
   "outputs": [],
   "source": [
    "codes=[1,2,3,4]\n",
    "codes.append"
   ]
  },
  {
   "cell_type": "code",
   "execution_count": null,
   "metadata": {},
   "outputs": [],
   "source": [
    "num = int(input(\"Enter a number: \"))\n",
    "factorial = 1\n",
    "# check if the number is negative, positive or zero\n",
    "if num < 0:\n",
    "   print(\"Sorry, factorial does not exist for negative numbers\")\n",
    "elif num == 0:\n",
    "   print(\"The factorial of 0 is 1\")\n",
    "else:\n",
    "   for i in range(1,num + 1):\n",
    "       factorial = factorial*i\n",
    "   print(\"The factorial of\",num,\"is\",factorial)\n"
   ]
  },
  {
   "cell_type": "code",
   "execution_count": null,
   "metadata": {},
   "outputs": [],
   "source": [
    "num=int(input())\n",
    "factorial=1\n",
    "\n",
    "if num<0:\n",
    "    print(\"sorry,factorial does'nt exist for negative numbers\")\n",
    "\n",
    "elif num==0:\n",
    "    print(\"factorial of 0 is 1\")\n",
    "\n",
    "else:\n",
    "    for i in range(1,num+1):\n",
    "        factorial=factorial*i\n",
    "    print(\"the factorial of num\",num,\"is\",factorial)"
   ]
  },
  {
   "cell_type": "code",
   "execution_count": null,
   "metadata": {},
   "outputs": [],
   "source": [
    "#Immutable Objects : These are of in-built types like int, float, bool, string, unicode, tuple. In simple words, an immutable object can’t be changed after it is created.\n",
    "\n",
    "# Python code to test that \n",
    "# tuples are immutable \n",
    "    \n",
    "tuple1 = (0, 1, 2, 3) \n",
    "tuple1[0] = 4\n",
    "print(tuple1)"
   ]
  },
  {
   "cell_type": "code",
   "execution_count": null,
   "metadata": {},
   "outputs": [],
   "source": [
    "#Mutable Objects : These are of type list, dict, set . Custom classes are generally mutable.\n",
    "\n",
    "# Python code to test that \n",
    "# lists are mutable \n",
    "color = [\"red\", \"blue\", \"green\"]\n",
    "print(color)\n",
    "  \n",
    "color[0] = \"pink\"\n",
    "color[-1] = \"orange\"\n",
    "print(color)"
   ]
  },
  {
   "cell_type": "code",
   "execution_count": null,
   "metadata": {},
   "outputs": [],
   "source": [
    "l=[10,'ws',5.5]\n",
    "print(l,type(l))"
   ]
  },
  {
   "cell_type": "code",
   "execution_count": null,
   "metadata": {},
   "outputs": [],
   "source": [
    "s=\"This is python programming\"\n",
    "7\n",
    "s=s.split()\n",
    "#print(list(s))\n",
    "for i in range(10):\n",
    "    print(s)"
   ]
  },
  {
   "cell_type": "code",
   "execution_count": null,
   "metadata": {},
   "outputs": [],
   "source": [
    "t=('hello')\n",
    "print(t)"
   ]
  },
  {
   "cell_type": "code",
   "execution_count": null,
   "metadata": {},
   "outputs": [],
   "source": [
    "t={100:\"steeltroops\"}\n",
    "print(type(t))"
   ]
  },
  {
   "cell_type": "code",
   "execution_count": null,
   "metadata": {},
   "outputs": [],
   "source": [
    "s={\"steel\":21,\"vikash\":1}\n",
    "print(s)"
   ]
  },
  {
   "cell_type": "code",
   "execution_count": null,
   "metadata": {},
   "outputs": [],
   "source": [
    "print([1,2,3]+[3,4,5])"
   ]
  },
  {
   "cell_type": "code",
   "execution_count": null,
   "metadata": {},
   "outputs": [],
   "source": [
    "print(type(3+5j))"
   ]
  },
  {
   "cell_type": "code",
   "execution_count": null,
   "metadata": {},
   "outputs": [],
   "source": [
    "s=\"hello\"\n",
    "print(s[::-1])"
   ]
  },
  {
   "cell_type": "code",
   "execution_count": null,
   "metadata": {},
   "outputs": [],
   "source": [
    "n=int(input())\n",
    "\n",
    "for i in range(n):\n",
    "    for j in range(n):\n",
    "        print(\"*\",end='  ')\n",
    "    print()"
   ]
  },
  {
   "cell_type": "code",
   "execution_count": null,
   "metadata": {},
   "outputs": [],
   "source": [
    "n=int(input())\n",
    "\n",
    "for i in range(n):\n",
    "    for j in range(i+1):\n",
    "        print(\"*\",end='  ')\n",
    "    print()"
   ]
  },
  {
   "cell_type": "code",
   "execution_count": null,
   "metadata": {},
   "outputs": [],
   "source": [
    "n=int(input())\n",
    "\n",
    "for i in range(n):\n",
    "    for j in range(i,n):\n",
    "        print(\"*\",end='  ')\n",
    "    print()"
   ]
  },
  {
   "cell_type": "code",
   "execution_count": null,
   "metadata": {},
   "outputs": [],
   "source": [
    "#butterfly\n",
    "n=int(input())\n",
    "\n",
    "for i in range(n):\n",
    "    for j in range(i+1):\n",
    "        print(\"*\",end='  ')\n",
    "    for j in range(i,n-1):\n",
    "        print(\" \",end='  ')\n",
    "    for j in range(i,n-1):\n",
    "        print(\" \",end='  ')\n",
    "    for j in range(i+1):\n",
    "        print(\"*\",end='  ')\n",
    "    print()\n",
    "\n",
    "for i in range(n):\n",
    "    for j in range(i,n):\n",
    "        print(\"*\",end='  ')\n",
    "    for j in range(i):\n",
    "        print(\" \",end='  ')\n",
    "    for j in range(i):\n",
    "        print(\" \",end='  ')\n",
    "    for j in range(i,n):\n",
    "        print(\"*\",end='  ')\n",
    "    print()\n"
   ]
  },
  {
   "cell_type": "code",
   "execution_count": null,
   "metadata": {},
   "outputs": [],
   "source": [
    "n=int(input())\n",
    "\n",
    "for i in range(n):\n",
    "    for j in range(i+1):\n",
    "        print(\"*\",end=\"  \")\n",
    "    for j in range(i,n-1):\n",
    "        print(\" \",end=\"  \")\n",
    "    for j in range(i,n-1):\n",
    "        print(\" \",end=\"  \")\n",
    "    for j in range(i+1):\n",
    "        print(\"*\",end=\"  \")\n",
    "    print()\n",
    "\n",
    "for i in range(n):\n",
    "    for j in range(i,n):\n",
    "        print(\"*\",end=\"  \")\n",
    "    for j in range(i):\n",
    "        print(\" \",end=\"  \")\n",
    "    for j in range(i):\n",
    "        print(\" \",end=\"  \")\n",
    "    for j in range(i,n):\n",
    "        print(\"*\",end=\"  \")\n",
    "    print()"
   ]
  },
  {
   "cell_type": "code",
   "execution_count": null,
   "metadata": {},
   "outputs": [],
   "source": [
    "n=int(input())\n",
    "\n",
    "for i in range(n):\n",
    "    for j in range(i):\n",
    "        print(\"*\",end=' ')\n",
    "\n",
    "    print()"
   ]
  },
  {
   "cell_type": "code",
   "execution_count": null,
   "metadata": {},
   "outputs": [],
   "source": [
    "n=int(input())\n",
    "\n",
    "for i in range(n-1):\n",
    "    for j in range(i,n):\n",
    "        print(\" \",end=\"  \")\n",
    "\n",
    "    for j in range(i+1):\n",
    "        print(\"*\",end=\"  \")\n",
    "\n",
    "    for j in range(i+1-1):\n",
    "        print(\"*\",end=\"  \")\n",
    "\n",
    "    print()\n",
    "\n",
    "for i in range(n):\n",
    "    for j in range(i+1):\n",
    "        print(\" \",end=\"  \")\n",
    "    for j in range(i,n-1):\n",
    "        print(\"*\",end=\"  \")\n",
    "    for j in range(i,n):\n",
    "        print(\"*\",end=\"  \")\n",
    "    print()\n"
   ]
  },
  {
   "cell_type": "code",
   "execution_count": null,
   "metadata": {},
   "outputs": [],
   "source": [
    "n=int(input())\n",
    "\n",
    "for i in range(n):\n",
    "    for j in range(i+1):\n",
    "        print(\"*\",end=\"  \")\n",
    "    for j in range(i,n-1):\n",
    "        print(\" \",end=\"  \")\n",
    "    for j in range(i,n-1):\n",
    "        print(\" \",end=\"  \")\n",
    "    for j in range(i+1):\n",
    "        print(\"*\",end=\"  \")\n",
    "    \n",
    "    print()\n",
    "\n",
    "for i in range(n):\n",
    "    for j in range(i,n):\n",
    "        print(\"*\",end=\"  \")\n",
    "    for j in range(i):\n",
    "        print(\" \",end=\"  \")\n",
    "    for j in range(i):\n",
    "        print(\" \",end=\"  \")\n",
    "    for j in range(i,n):\n",
    "        print(\"*\",end=\"  \")\n",
    "\n",
    "    print()\n",
    "    "
   ]
  },
  {
   "cell_type": "code",
   "execution_count": null,
   "metadata": {},
   "outputs": [],
   "source": [
    "name=\"steeltroos's car\"\n",
    "print(name)"
   ]
  },
  {
   "cell_type": "code",
   "execution_count": null,
   "metadata": {},
   "outputs": [],
   "source": [
    "r=float(input())\n",
    "\n",
    "area= 3.14*r**2\n",
    "print(area)"
   ]
  },
  {
   "cell_type": "code",
   "execution_count": null,
   "metadata": {},
   "outputs": [],
   "source": [
    "l=float(input(\"enter length:\"))\n",
    "\n",
    "w=float(input(\"enter width:\"))\n",
    "\n",
    "perimeter=2*(l+w)\n",
    "\n",
    "print(perimeter)"
   ]
  },
  {
   "cell_type": "code",
   "execution_count": null,
   "metadata": {},
   "outputs": [],
   "source": [
    "p=float(input(\"principle:\"))\n",
    "r=float(input(\"rate of intrest:\"))\n",
    "t=float(input(\"time:\"))\n",
    "\n",
    "\n",
    "SI=p*r*t/100\n",
    "print(\"simple interst is\",SI)\n",
    "\n",
    "TA=p+SI\n",
    "print(\"total amount is\",TA)"
   ]
  },
  {
   "cell_type": "code",
   "execution_count": null,
   "metadata": {},
   "outputs": [],
   "source": [
    "tic=float(input(\"temp in celsius:\"))\n",
    "\n",
    "tif=(tic*1.8)+32\n",
    "print(\"temperature in fahrenheit is\",tif)\n"
   ]
  },
  {
   "cell_type": "code",
   "execution_count": null,
   "metadata": {},
   "outputs": [],
   "source": [
    "tif=float(input(\"temp in fahrenheit:\"))\n",
    "\n",
    "tic=(tif-32)/1.8\n",
    "print(\"temperature in celsius is:\",tic)"
   ]
  },
  {
   "cell_type": "code",
   "execution_count": null,
   "metadata": {},
   "outputs": [],
   "source": [
    "print(chr(ord('A')+25))"
   ]
  },
  {
   "cell_type": "code",
   "execution_count": null,
   "metadata": {},
   "outputs": [],
   "source": [
    "print(chr(ord('b')+1))"
   ]
  },
  {
   "cell_type": "code",
   "execution_count": null,
   "metadata": {},
   "outputs": [],
   "source": [
    "print('hello\\\\example\\\\test.txt')"
   ]
  },
  {
   "cell_type": "code",
   "execution_count": null,
   "metadata": {},
   "outputs": [],
   "source": [
    "s=\"\\t\\tWorld\\n\"\n",
    "s.strip()"
   ]
  },
  {
   "cell_type": "code",
   "execution_count": null,
   "metadata": {},
   "outputs": [],
   "source": [
    "C=50\n",
    "H=30\n",
    "D=int(input(\"D value:\"))\n",
    "Q=((2*C*D)/H)**1/2\n",
    "\n",
    "print(Q)"
   ]
  },
  {
   "cell_type": "code",
   "execution_count": null,
   "metadata": {},
   "outputs": [],
   "source": [
    "def numpat(n):5\n",
    "num=1\n",
    "\n",
    "for i in range(0,n):\n",
    "    num=1\n",
    "    for j in range(0,i+1):\n",
    "        num=1\n",
    "        print(num,end=\"  \")\n",
    "        num=num+1\n",
    "    print(\"\\r\")\n"
   ]
  },
  {
   "cell_type": "code",
   "execution_count": null,
   "metadata": {},
   "outputs": [],
   "source": [
    "#armstrong number\n",
    "\n",
    "num=(int(input()))\n",
    "\n",
    "\n",
    "order=len(str(num))\n",
    "sum=0\n",
    "\n",
    "temp=num\n",
    "while temp>0:\n",
    "    digit =temp%10\n",
    "    sum+=digit**order\n",
    "    temp//=10\n",
    "\n",
    "if num==sum:\n",
    "    print(num,\"is an armstrong number\")\n",
    "else:\n",
    "    print(num,\"is not an armstrong number\")"
   ]
  },
  {
   "cell_type": "code",
   "execution_count": null,
   "metadata": {},
   "outputs": [],
   "source": [
    "#factorial of a given number\n",
    "\n",
    "i=int(input(\"enter number:\"))\n",
    "\n",
    "fac=1\n",
    "while(i>0):\n",
    "    fac=fac*i\n",
    "    i=i-1\n",
    "print('Factorial=',fac)"
   ]
  },
  {
   "cell_type": "code",
   "execution_count": null,
   "metadata": {},
   "outputs": [],
   "source": [
    "st='0xf7'\n",
    "num=float(st)\n",
    "print(num)"
   ]
  },
  {
   "cell_type": "code",
   "execution_count": null,
   "metadata": {},
   "outputs": [],
   "source": [
    "input='hello'\n",
    "hello=None\n",
    "out=hello or input\n",
    "out=eval(out)\n",
    "print(out,type(out))"
   ]
  },
  {
   "cell_type": "code",
   "execution_count": null,
   "metadata": {},
   "outputs": [],
   "source": [
    "y='10%d0'%True\n",
    "print(int(y,2))"
   ]
  },
  {
   "cell_type": "code",
   "execution_count": null,
   "metadata": {},
   "outputs": [],
   "source": [
    "lst=['vehicle','object','human','water']\n",
    "slc=lst[10:0:-2]\n",
    "print(slc,type(slc))"
   ]
  },
  {
   "cell_type": "code",
   "execution_count": null,
   "metadata": {},
   "outputs": [],
   "source": [
    "#Python Program to merge two dictionaries\n"
   ]
  },
  {
   "cell_type": "markdown",
   "metadata": {},
   "source": [
    "1. python program to merge two dictionaries\n",
    "2. Python program to iterate over dictionary using for loops\n",
    "3. python program to sum all items in dictionary\n",
    "4. python program to multiply all the items in the dictionaries\n",
    "5. python program to remove a key from dictionary\n",
    "6. python program to map two list in dictionary."
   ]
  },
  {
   "cell_type": "code",
   "execution_count": null,
   "metadata": {},
   "outputs": [],
   "source": [
    "info1 = {'name':'ravi','college':'GLA'}\n",
    "info_up = {'rollno':23,'name':'ayush'}\n",
    "info1.update(info_up)\n",
    "print(info1)\n"
   ]
  },
  {
   "cell_type": "code",
   "execution_count": null,
   "metadata": {},
   "outputs": [],
   "source": [
    "info={'Name':'Steeltroopps','College':'Gla University','roll':28,'phone':1234567890}\n",
    "val=info.get('roll')\n",
    "print(val)"
   ]
  },
  {
   "cell_type": "code",
   "execution_count": null,
   "metadata": {},
   "outputs": [],
   "source": [
    "info={'Steeltroopps':87,'mayank':85,'senpai':82}\n",
    "s=0\n",
    "for i in info:\n",
    "    s += info[i]\n",
    "print(s)"
   ]
  },
  {
   "cell_type": "code",
   "execution_count": 51,
   "metadata": {},
   "outputs": [
    {
     "name": "stdout",
     "output_type": "stream",
     "text": [
      "<built-in method pop of dict object at 0x000002C223033180>\n"
     ]
    }
   ],
   "source": [
    "info={'Name':'Steeltroopps','College':'Gla University','roll':28,'phone':1234567890}\n",
    "val=info\n",
    "print(val)"
   ]
  },
  {
   "cell_type": "code",
   "execution_count": null,
   "metadata": {},
   "outputs": [],
   "source": [
    "a=10\n",
    "for i in range(1,11):\n",
    "    print(i)"
   ]
  },
  {
   "cell_type": "code",
   "execution_count": null,
   "metadata": {},
   "outputs": [],
   "source": [
    "a=10\n",
    "for i in (1,a):\n",
    "    print(i)\n",
    "    a=5"
   ]
  },
  {
   "cell_type": "code",
   "execution_count": 52,
   "metadata": {},
   "outputs": [
    {
     "name": "stdout",
     "output_type": "stream",
     "text": [
      "1\n",
      "4\n"
     ]
    }
   ],
   "source": [
    "x=[1,2,4]\n",
    "for i in x:\n",
    "    print(i)\n",
    "    x.remove(i)"
   ]
  },
  {
   "cell_type": "code",
   "execution_count": 64,
   "metadata": {},
   "outputs": [
    {
     "name": "stdout",
     "output_type": "stream",
     "text": [
      "{'Name': 'Steeltroopps', 'College': 'Gla University', 'roll': 28, 'phone': 1234567890}\n"
     ]
    }
   ],
   "source": [
    "info={'Name':'Steeltroopps','College':'Gla University','roll':28,'phone':1234567890}\n",
    "n=info.copy()\n",
    "for i in n:\n",
    "    if info[i]==40:\n",
    "        x.pop(i)\n",
    "print(n)"
   ]
  },
  {
   "cell_type": "code",
   "execution_count": 73,
   "metadata": {},
   "outputs": [
    {
     "name": "stdout",
     "output_type": "stream",
     "text": [
      "{'Name': 'Steeltroops', 'College': 'Gla University', 'roll': 28, 'phone': 1234567890}\n"
     ]
    }
   ],
   "source": [
    "ls1=['Name','College','roll','phone']\n",
    "ls2=['Steeltroops','Gla University',28,1234567890]\n",
    "d=dict(zip(ls1,ls2))\n",
    "print(d)"
   ]
  },
  {
   "cell_type": "code",
   "execution_count": 10,
   "metadata": {},
   "outputs": [
    {
     "data": {
      "text/plain": [
       "True"
      ]
     },
     "execution_count": 10,
     "metadata": {},
     "output_type": "execute_result"
    }
   ],
   "source": [
    "d={'john':40,\"peter\":45}\n",
    "\"john\"in d"
   ]
  },
  {
   "cell_type": "code",
   "execution_count": 11,
   "metadata": {},
   "outputs": [
    {
     "name": "stdout",
     "output_type": "stream",
     "text": [
      "(5, 3, 1, 9)\n",
      "(5, 3, 1, 9, 0)\n",
      "(5, 3, 1, 9)\n",
      "(3, 1, 9, 0)\n"
     ]
    }
   ],
   "source": [
    "tuple=(5,3,1,9,0)\n",
    "print(tuple[:-1])\n",
    "print(tuple[0:5])\n",
    "print(tuple[0:4])\n",
    "print(tuple[-4:])"
   ]
  },
  {
   "cell_type": "code",
   "execution_count": 12,
   "metadata": {},
   "outputs": [
    {
     "name": "stdout",
     "output_type": "stream",
     "text": [
      "1\n"
     ]
    }
   ],
   "source": [
    "a=[1]\n",
    "while a:\n",
    "    a.append(a.count(1))\n",
    "    if a.count(1)>1:\n",
    "        a.clear()\n",
    "else:\n",
    "    a.append(100)\n",
    "print(len(a))\n"
   ]
  },
  {
   "cell_type": "code",
   "execution_count": 16,
   "metadata": {},
   "outputs": [
    {
     "data": {
      "text/plain": [
       "[1, 4, 8]"
      ]
     },
     "execution_count": 16,
     "metadata": {},
     "output_type": "execute_result"
    }
   ],
   "source": [
    "t=(1,2,4,3,8,9)\n",
    "[t[i] for i in range(0,len(t),2)]"
   ]
  },
  {
   "cell_type": "code",
   "execution_count": 17,
   "metadata": {},
   "outputs": [
    {
     "name": "stdout",
     "output_type": "stream",
     "text": [
      "1 3 4\n"
     ]
    }
   ],
   "source": [
    "a='13405'\n",
    "a=sorted(a)[1:-1]\n",
    "print(*a)"
   ]
  },
  {
   "cell_type": "code",
   "execution_count": 18,
   "metadata": {},
   "outputs": [
    {
     "data": {
      "text/plain": [
       "4"
      ]
     },
     "execution_count": 18,
     "metadata": {},
     "output_type": "execute_result"
    }
   ],
   "source": [
    "len(['hello',2,4,6][:])"
   ]
  },
  {
   "cell_type": "code",
   "execution_count": 21,
   "metadata": {},
   "outputs": [
    {
     "ename": "ValueError",
     "evalue": "factorial() not defined for negative values",
     "output_type": "error",
     "traceback": [
      "\u001b[1;31m---------------------------------------------------------------------------\u001b[0m",
      "\u001b[1;31mValueError\u001b[0m                                Traceback (most recent call last)",
      "\u001b[1;32m~\\AppData\\Local\\Temp/ipykernel_13716/3015684979.py\u001b[0m in \u001b[0;36m<module>\u001b[1;34m\u001b[0m\n\u001b[0;32m      1\u001b[0m \u001b[0mnum\u001b[0m\u001b[1;33m=\u001b[0m\u001b[0mint\u001b[0m\u001b[1;33m(\u001b[0m\u001b[0minput\u001b[0m\u001b[1;33m(\u001b[0m\u001b[1;34m\"enter f numbr\"\u001b[0m\u001b[1;33m)\u001b[0m\u001b[1;33m)\u001b[0m\u001b[1;33m\u001b[0m\u001b[1;33m\u001b[0m\u001b[0m\n\u001b[1;32m----> 2\u001b[1;33m \u001b[0mprint\u001b[0m\u001b[1;33m(\u001b[0m\u001b[0mmath\u001b[0m\u001b[1;33m.\u001b[0m\u001b[0mfactorial\u001b[0m\u001b[1;33m(\u001b[0m\u001b[0mnum\u001b[0m\u001b[1;33m)\u001b[0m\u001b[1;33m)\u001b[0m\u001b[1;33m\u001b[0m\u001b[1;33m\u001b[0m\u001b[0m\n\u001b[0m",
      "\u001b[1;31mValueError\u001b[0m: factorial() not defined for negative values"
     ]
    }
   ],
   "source": [
    "import math\n",
    "num=int(input(\"enter f numbr\"))\n",
    "print(math.factorial(num))"
   ]
  },
  {
   "cell_type": "code",
   "execution_count": 1,
   "metadata": {},
   "outputs": [
    {
     "ename": "NameError",
     "evalue": "name 'math' is not defined",
     "output_type": "error",
     "traceback": [
      "\u001b[1;31m---------------------------------------------------------------------------\u001b[0m",
      "\u001b[1;31mNameError\u001b[0m                                 Traceback (most recent call last)",
      "\u001b[1;32m~\\AppData\\Local\\Temp/ipykernel_17344/1898961319.py\u001b[0m in \u001b[0;36m<module>\u001b[1;34m\u001b[0m\n\u001b[0;32m      1\u001b[0m \u001b[0mnum\u001b[0m\u001b[1;33m=\u001b[0m\u001b[0mint\u001b[0m\u001b[1;33m(\u001b[0m\u001b[0minput\u001b[0m\u001b[1;33m(\u001b[0m\u001b[1;34m\"enter f numbr\"\u001b[0m\u001b[1;33m)\u001b[0m\u001b[1;33m)\u001b[0m\u001b[1;33m\u001b[0m\u001b[1;33m\u001b[0m\u001b[0m\n\u001b[1;32m----> 2\u001b[1;33m \u001b[0mprint\u001b[0m\u001b[1;33m(\u001b[0m\u001b[0mmath\u001b[0m\u001b[1;33m.\u001b[0m\u001b[0mfactorial\u001b[0m\u001b[1;33m(\u001b[0m\u001b[0mnum\u001b[0m\u001b[1;33m)\u001b[0m\u001b[1;33m)\u001b[0m\u001b[1;33m\u001b[0m\u001b[1;33m\u001b[0m\u001b[0m\n\u001b[0m",
      "\u001b[1;31mNameError\u001b[0m: name 'math' is not defined"
     ]
    }
   ],
   "source": [
    "import math\n",
    "num=int(input(\"enter f numbr\"))\n",
    "print(math.factorial(num))"
   ]
  }
 ],
 "metadata": {
  "kernelspec": {
   "display_name": "Python 3.11.0 64-bit",
   "language": "python",
   "name": "python3"
  },
  "language_info": {
   "codemirror_mode": {
    "name": "ipython",
    "version": 3
   },
   "file_extension": ".py",
   "mimetype": "text/x-python",
   "name": "python",
   "nbconvert_exporter": "python",
   "pygments_lexer": "ipython3",
   "version": "3.11.0"
  },
  "orig_nbformat": 4,
  "vscode": {
   "interpreter": {
    "hash": "5238573367df39f7286bb46f9ff5f08f63a01a80960060ce41e3c79b190280fa"
   }
  }
 },
 "nbformat": 4,
 "nbformat_minor": 2
}
