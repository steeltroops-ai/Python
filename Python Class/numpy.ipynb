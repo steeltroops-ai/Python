{
 "cells": [
  {
   "cell_type": "markdown",
   "metadata": {},
   "source": [
    "[2,4,3]\n",
    "[4,0,1]"
   ]
  },
  {
   "cell_type": "code",
   "execution_count": null,
   "metadata": {},
   "outputs": [],
   "source": [
    "ls=[[2,4,3],[4,0,1]]"
   ]
  },
  {
   "cell_type": "code",
   "execution_count": null,
   "metadata": {},
   "outputs": [],
   "source": [
    "import numpy as np\n",
    "ls1=[[2,4,3],[4,0,1]]\n",
    "ls2=[[3,5,7],[4,7,0]]\n",
    "arr1=np.array(ls1)\n",
    "arr2=np.array(ls2)\n",
    "arr_re=arr1+arr2\n",
    "print(arr_re)"
   ]
  },
  {
   "cell_type": "code",
   "execution_count": null,
   "metadata": {},
   "outputs": [],
   "source": [
    "ls1=[[2,4,3],[4,0,1]]\n",
    "ls2=[[3,5,7],[4,7,0]]\n",
    "print(ls1,end='\\n\\n')\n",
    "print(ls2,end='\\n\\n')\n",
    "\n",
    "r1=len(ls1)\n",
    "c1=len(ls1[0])\n",
    "\n",
    "r2=len(ls2)\n",
    "c2=len(ls2[0])\n",
    "\n",
    "res_ls=[]\n",
    "if(r1,c1)==(r2,c2):\n",
    "    for i in range(r1):\n",
    "        tmp=[]\n",
    "        for j in range(c1):\n",
    "            tmp.append(ls1[i][j]+ls2[i][j])\n",
    "        res_ls.append(tmp)\n",
    "else:\n",
    "    print(\"Dimensions not valid\")\n",
    "print(res_ls)"
   ]
  },
  {
   "cell_type": "code",
   "execution_count": null,
   "metadata": {},
   "outputs": [],
   "source": [
    "import numpy as np\n",
    "ls1=[[2,4,3],[4,0,1]]\n",
    "ls2=[[3,5,7],[4,7,0]]\n",
    "arr1=np.array(ls1)\n",
    "arr2=np.array(ls2)\n",
    "arr_re=arr1*arr2\n",
    "print(arr_re)"
   ]
  },
  {
   "cell_type": "code",
   "execution_count": null,
   "metadata": {},
   "outputs": [],
   "source": [
    "import numpy as np\n",
    "ls1=[[2,4,3],[4,0,1]]\n",
    "ls2=[[3,5,7],[4,7,0]]\n",
    "arr1=np.array(ls1)\n",
    "arr2=np.array(ls2)\n",
    "arr_re=np.multiply(arr1,arr2)\n",
    "arr_re1=np.divide(arr1,arr2)\n",
    "print(arr_re)\n",
    "print(arr_re1)"
   ]
  },
  {
   "cell_type": "code",
   "execution_count": null,
   "metadata": {},
   "outputs": [],
   "source": [
    "import numpy as np\n",
    "ls1=[[2,4,3],[4,0,1]]\n",
    "ls2=[[3,5,7],[4,7,0]]\n",
    "arr1=np.array(ls1)\n",
    "arr2=np.array(ls2)\n",
    "print(arr1)\n",
    "print()\n",
    "arr2.shape=3,2\n",
    "print(arr2)\n",
    "print()\n",
    "arr_re=np.dot(arr1,arr2)\n",
    "print(arr_re)"
   ]
  },
  {
   "cell_type": "code",
   "execution_count": null,
   "metadata": {},
   "outputs": [],
   "source": [
    "import numpy as np"
   ]
  },
  {
   "cell_type": "code",
   "execution_count": null,
   "metadata": {},
   "outputs": [],
   "source": [
    "arr=np.array(2,3,4,5,6)\n",
    "print(arr)"
   ]
  },
  {
   "cell_type": "code",
   "execution_count": null,
   "metadata": {},
   "outputs": [],
   "source": [
    "lst=list(range(1,6,1.5))\n",
    "print(lst)  #work on integer only"
   ]
  },
  {
   "cell_type": "code",
   "execution_count": null,
   "metadata": {},
   "outputs": [],
   "source": [
    "#arrange\n",
    "import numpy as np\n",
    "arr=np.arange(1,10)\n",
    "arr=arr+5\n",
    "print(arr)"
   ]
  },
  {
   "cell_type": "code",
   "execution_count": null,
   "metadata": {},
   "outputs": [],
   "source": [
    "#sin()\n",
    "import numpy as np\n",
    "arr=np.arange(10,20)\n",
    "out=np.sin(arr)\n",
    "print(out)"
   ]
  },
  {
   "cell_type": "code",
   "execution_count": null,
   "metadata": {},
   "outputs": [],
   "source": [
    "arr=np.arange(1,13).reshape(4,3)\n",
    "out=np.sum(arr,0)\n",
    "print(arr)\n",
    "print(out)"
   ]
  },
  {
   "cell_type": "code",
   "execution_count": null,
   "metadata": {},
   "outputs": [],
   "source": [
    "\n",
    "import numpy as np\n",
    "ls=list(map(int,input().split()))\n",
    "Arr=np.array(ls,dtype='float')\n",
    "Arr=Arr[::-1]\n",
    "print(Arr)"
   ]
  },
  {
   "cell_type": "code",
   "execution_count": null,
   "metadata": {},
   "outputs": [],
   "source": [
    "import numpy as np\n",
    "ls=list(map(int,input().split()))\n",
    "Arr=np.array(ls,dtype='float')\n",
    "Arr=Arr[::-1]\n",
    "print(Arr)"
   ]
  },
  {
   "cell_type": "code",
   "execution_count": null,
   "metadata": {},
   "outputs": [],
   "source": [
    "import numpy as np\n",
    "ls=list(map(int(),input().split()))\n",
    "l=np.array(ls)\n",
    "l1=l.reshape(3,3)\n",
    "print(l1)\n",
    "\n"
   ]
  },
  {
   "cell_type": "code",
   "execution_count": null,
   "metadata": {},
   "outputs": [],
   "source": [
    "ls1=list(map(int(),input().split(\" \")))\n",
    "l=np.array(ls1)\n",
    "l1=np.eye(1[0],l[-1])\n",
    "print(l1)"
   ]
  },
  {
   "cell_type": "code",
   "execution_count": null,
   "metadata": {},
   "outputs": [],
   "source": [
    "ls=list(map(int(),input().split(\".\")))\n",
    "ls1=list(map(int(),input().split(\".\")))\n",
    "l=np.array(ls)\n",
    "l1=np.array(ls1)\n",
    "l2=l+l1\n",
    "l3=l-l1\n",
    "l4=l*l1\n",
    "l5=l//l1\n",
    "l6=l%l1\n",
    "l7=l**l1\n",
    "print(l)\n",
    "print(l1)\n",
    "print(l2)\n",
    "print(l3)\n",
    "print(l4)\n",
    "print(l5)\n",
    "print(l6)\n",
    "print(l7)"
   ]
  },
  {
   "cell_type": "code",
   "execution_count": null,
   "metadata": {},
   "outputs": [],
   "source": [
    "M,C=map(int(),input().split())\n",
    "m=[]"
   ]
  }
 ],
 "metadata": {
  "interpreter": {
   "hash": "3bbe4b04bbda9182dee05bae70819db83e74172125e017501bfa1cf45b554296"
  },
  "kernelspec": {
   "display_name": "Python 3.10.1 64-bit",
   "language": "python",
   "name": "python3"
  },
  "language_info": {
   "codemirror_mode": {
    "name": "ipython",
    "version": 3
   },
   "file_extension": ".py",
   "mimetype": "text/x-python",
   "name": "python",
   "nbconvert_exporter": "python",
   "pygments_lexer": "ipython3",
   "version": "3.10.2"
  },
  "orig_nbformat": 4
 },
 "nbformat": 4,
 "nbformat_minor": 2
}
