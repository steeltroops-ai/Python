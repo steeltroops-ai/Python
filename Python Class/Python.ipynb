{
 "cells": [
  {
   "cell_type": "code",
   "execution_count": null,
   "metadata": {},
   "outputs": [],
   "source": [
    "n=int(input())\n",
    "\n",
    "for i in range(n):\n",
    "\n",
    "    for j in range(i,n):\n",
    "     print('', end='')\n",
    "\n",
    "    for j in range(i+1):\n",
    "        print('*',end='')\n",
    "\n",
    "    print()"
   ]
  },
  {
   "cell_type": "code",
   "execution_count": null,
   "metadata": {},
   "outputs": [],
   "source": [
    "x=10\n",
    "y=\"steeltroops\"\n",
    "print(x**y)\n",
    "print(x+y)\n"
   ]
  },
  {
   "cell_type": "code",
   "execution_count": null,
   "metadata": {},
   "outputs": [],
   "source": [
    "#prime number program\n",
    "\n",
    "x=int(input(\"enter a number: \"))\n",
    "\n",
    "if x>0:\n",
    "    for i in range(2,x):\n",
    "        if x%2 == 0:\n",
    "            print('Not a prime Number')\n",
    "            break\n",
    "        else:\n",
    "            print('prime number')\n",
    "            break\n",
    "\n",
    "else:\n",
    "    print('give a positive number')"
   ]
  },
  {
   "cell_type": "markdown",
   "metadata": {},
   "source": [
    "# Function"
   ]
  },
  {
   "cell_type": "markdown",
   "metadata": {},
   "source": [
    "Function:\n",
    "\n",
    "block of code to solve the specific problem\n",
    "\n",
    "syntax:\n",
    "\n",
    "def function_name(argv):\n",
    "    # function body"
   ]
  },
  {
   "cell_type": "code",
   "execution_count": null,
   "metadata": {},
   "outputs": [],
   "source": [
    "#lcm :  lowest comman multiple\n",
    "def lcm(num1, num2):\n",
    "\n",
    "\n",
    "\n",
    "    mx = max(num1, num2)\n",
    "    while 1:\n",
    "\n",
    "        if mx % num1 == 0 and mx % num2 == 0:\n",
    "            return mx\n",
    "            break\n",
    "        mx += 1 \n",
    "\n",
    "num1 = 4\n",
    "num2 = 6\n",
    "out = lcm(num1, num2)\n",
    "print(out)\n"
   ]
  },
  {
   "cell_type": "code",
   "execution_count": null,
   "metadata": {},
   "outputs": [],
   "source": [
    "# LCM: lowest common multiple \n",
    "\n",
    "num1 = 6\n",
    "num2 = 4\n",
    "\n",
    "mx = max(num1, num2)\n",
    "while 1:\n",
    "    if mx % num1 == 0 and mx % num2 == 0:\n",
    "        lcm = mx\n",
    "        break\n",
    "    mx += 1\n",
    "print(lcm)     "
   ]
  },
  {
   "cell_type": "code",
   "execution_count": null,
   "metadata": {},
   "outputs": [],
   "source": [
    "# Python Program to find the L.C.M. of two input number\n",
    "\n",
    "def compute_lcm(x, y):\n",
    "\n",
    "   # choose the greater number\n",
    "   if x > y:\n",
    "       greater = x\n",
    "   else:\n",
    "       greater = y\n",
    "\n",
    "   while(True):\n",
    "       if((greater % x == 0) and (greater % y == 0)):\n",
    "           lcm = greater\n",
    "           break\n",
    "       greater += 1\n",
    "\n",
    "   return lcm\n",
    "\n",
    "num1 = 2\n",
    "num2 = 8\n",
    "\n",
    "print(\"The L.C.M. is\", compute_lcm(num1, num2))"
   ]
  },
  {
   "cell_type": "code",
   "execution_count": null,
   "metadata": {},
   "outputs": [],
   "source": [
    "num1 = 4\n",
    "num2 = 8\n",
    "\n",
    "lcm(num1, num2)"
   ]
  },
  {
   "cell_type": "code",
   "execution_count": 8,
   "metadata": {},
   "outputs": [
    {
     "ename": "NameError",
     "evalue": "name 'lcm' is not defined",
     "output_type": "error",
     "traceback": [
      "\u001b[1;31m---------------------------------------------------------------------------\u001b[0m",
      "\u001b[1;31mNameError\u001b[0m                                 Traceback (most recent call last)",
      "\u001b[1;32m~\\AppData\\Local\\Temp/ipykernel_8880/2120048178.py\u001b[0m in \u001b[0;36m<module>\u001b[1;34m\u001b[0m\n\u001b[0;32m      3\u001b[0m \u001b[0mnum2\u001b[0m \u001b[1;33m=\u001b[0m \u001b[1;36m8\u001b[0m\u001b[1;33m\u001b[0m\u001b[1;33m\u001b[0m\u001b[0m\n\u001b[0;32m      4\u001b[0m \u001b[1;33m\u001b[0m\u001b[0m\n\u001b[1;32m----> 5\u001b[1;33m \u001b[0mout\u001b[0m\u001b[1;33m=\u001b[0m\u001b[0mlcm\u001b[0m\u001b[1;33m(\u001b[0m\u001b[0mnum1\u001b[0m\u001b[1;33m,\u001b[0m\u001b[0mnum2\u001b[0m\u001b[1;33m)\u001b[0m\u001b[1;33m\u001b[0m\u001b[1;33m\u001b[0m\u001b[0m\n\u001b[0m\u001b[0;32m      6\u001b[0m \u001b[0mprint\u001b[0m\u001b[1;33m(\u001b[0m\u001b[0mout\u001b[0m\u001b[1;33m)\u001b[0m\u001b[1;33m\u001b[0m\u001b[1;33m\u001b[0m\u001b[0m\n",
      "\u001b[1;31mNameError\u001b[0m: name 'lcm' is not defined"
     ]
    }
   ],
   "source": [
    "import math\n",
    "num1 = 4\n",
    "num2 = 8\n",
    "\n",
    "out=lcm(num1,num2)\n",
    "print(out)"
   ]
  },
  {
   "cell_type": "markdown",
   "metadata": {},
   "source": [
    "Python Functions:\n",
    "A function is a block of code which only runs when it is called.\n",
    "\n",
    "You can pass data, known as parameters, into a function.\n",
    "\n",
    "A function can return data as a result.\n",
    "\n"
   ]
  },
  {
   "cell_type": "code",
   "execution_count": null,
   "metadata": {},
   "outputs": [],
   "source": [
    "#To call a function, use the function name followed by parenthesis:\n",
    "\n",
    "#Example\n",
    "\n",
    "def my_function():\n",
    "  print(\"GLA Python Classes\")\n",
    "\n",
    "my_function()"
   ]
  },
  {
   "cell_type": "code",
   "execution_count": 9,
   "metadata": {},
   "outputs": [],
   "source": [
    "def my_fun_with_argv(name, message):\n",
    "        print(f\"Hello{name},message for you{message}\")\n",
    "\n"
   ]
  },
  {
   "cell_type": "code",
   "execution_count": null,
   "metadata": {},
   "outputs": [],
   "source": [
    "#function with no return and no arguments\n",
    "\n",
    "def my_info():\n",
    "    print(\"My name is steeltroops\")\n",
    "    print(\"Section P AIML\")\n",
    "    print(\"Gla University\")\n",
    "    print(\"My mobile number is 1234567890\")\n",
    "\n",
    "my_info()"
   ]
  },
  {
   "cell_type": "code",
   "execution_count": null,
   "metadata": {},
   "outputs": [],
   "source": [
    "# function with no return and argv\n",
    "def my_info(name, sec, college, mob):\n",
    "    st = f'''\n",
    "    My name is {name}\n",
    "    Section {sec}\n",
    "    University {college}\n",
    "    Mobile number is {mob}'''\n",
    "    return st"
   ]
  },
  {
   "cell_type": "code",
   "execution_count": null,
   "metadata": {},
   "outputs": [],
   "source": [
    "lst = ['steeltroops','Sec P AIML','GLA University','1234567890']\n",
    "out=my_info(*lst)\n",
    "print(out)"
   ]
  },
  {
   "cell_type": "code",
   "execution_count": null,
   "metadata": {},
   "outputs": [],
   "source": [
    "print(*'hello')\n",
    "\n",
    "print(*'hello',sep='\\n')"
   ]
  },
  {
   "cell_type": "code",
   "execution_count": null,
   "metadata": {},
   "outputs": [],
   "source": [
    "#GCD\n",
    "\n",
    "def gcd(n1,n2):\n",
    "    pass\n",
    "\n",
    "\n",
    "#main\n",
    "n1=int(input('enter 1st  num:'))\n",
    "n2=int(input('enter 2nd num:'))\n",
    "\n",
    "out=(gcd(n1,n2))\n",
    "print(out)"
   ]
  },
  {
   "cell_type": "code",
   "execution_count": null,
   "metadata": {},
   "outputs": [],
   "source": [
    "# LCM: lowest common multiple\n",
    "\n",
    "num1 = 13\n",
    "num2 = 4\n",
    "\n",
    "mx = max(num1, num2)\n",
    "while 1:\n",
    "    if mx % num1 == 0 and mx % num2 == 0:\n",
    "        lcm = mx\n",
    "        break\n",
    "    mx += 1\n",
    "print(lcm)"
   ]
  },
  {
   "cell_type": "code",
   "execution_count": null,
   "metadata": {},
   "outputs": [],
   "source": [
    "num1 = 13\n",
    "num2 = 4\n",
    "\n",
    "mx = max(num1, num2)\n",
    "print(mx)"
   ]
  },
  {
   "cell_type": "markdown",
   "metadata": {},
   "source": [
    "Types of Arguments\n",
    "\n",
    "add(a,b) = Formal parameter\n",
    "\n",
    "add(3,5) = Actual parameter\n",
    "\n",
    "\n",
    "1. Positional\n",
    "2. keyword\n",
    "3. default\n"
   ]
  },
  {
   "cell_type": "code",
   "execution_count": null,
   "metadata": {},
   "outputs": [],
   "source": [
    "def addsub(a,b):\n",
    "    return a+b,a-b  #comma seprated elements are tuple (a+b, a-b)\n",
    "\n",
    "x=5\n",
    "y=10\n",
    "out = addsub(x,y)\n",
    "print(out)\n",
    "\n"
   ]
  },
  {
   "cell_type": "code",
   "execution_count": null,
   "metadata": {},
   "outputs": [],
   "source": [
    "def addsub(a,b):\n",
    "    return a+b,a-b  #comma seprated elements are tuple (a+b, a-b)\n",
    "\n",
    "x=5\n",
    "y=10\n",
    "out = addsub(a=x,b=y)   #positional argument \n",
    "print(out)\n"
   ]
  },
  {
   "cell_type": "code",
   "execution_count": null,
   "metadata": {},
   "outputs": [],
   "source": [
    "def addsub(a,b):\n",
    "    return a+b,a-b  #comma seprated elements are tuple (a+b, a-b)\n",
    "\n",
    "x=5\n",
    "y=10\n",
    "out = addsub(b=y,a=x) #keyword argument\n",
    "print(out)\n"
   ]
  },
  {
   "cell_type": "code",
   "execution_count": null,
   "metadata": {},
   "outputs": [],
   "source": [
    "def add(a,b=0):\n",
    "    return a+b\n",
    "\n",
    "out=add(10,12)\n",
    "print(out)"
   ]
  },
  {
   "cell_type": "code",
   "execution_count": null,
   "metadata": {},
   "outputs": [],
   "source": [
    "#default argument\n",
    "\n",
    "def add(a=0,b=0):\n",
    "    return a+b\n",
    "\n",
    "out=add(5,7)\n",
    "print(out)"
   ]
  },
  {
   "cell_type": "code",
   "execution_count": null,
   "metadata": {},
   "outputs": [],
   "source": [
    "#positional argument\n",
    "\n",
    "def add(a=0,b=0,*x):\n",
    "    return a+b+sum(x)\n",
    "\n",
    "out=add(5,7,5)\n",
    "print(out)"
   ]
  },
  {
   "cell_type": "code",
   "execution_count": null,
   "metadata": {},
   "outputs": [],
   "source": [
    "#optional positional argument\n",
    "def add(*x):\n",
    "    return sum(x)\n",
    "\n",
    "out=add(5,7,5)\n",
    "print(out)"
   ]
  },
  {
   "cell_type": "code",
   "execution_count": null,
   "metadata": {},
   "outputs": [],
   "source": [
    "def add(*x,b):\n",
    "    return sum(x)\n",
    "\n",
    "\n",
    "out=add(5,6,7,b=10)\n",
    "print(out)"
   ]
  },
  {
   "cell_type": "code",
   "execution_count": null,
   "metadata": {},
   "outputs": [],
   "source": [
    "def add(b,*x):\n",
    "    return sum(x)\n",
    "\n",
    "out=add(5,6,7)\n",
    "print(out)"
   ]
  },
  {
   "cell_type": "code",
   "execution_count": null,
   "metadata": {},
   "outputs": [],
   "source": [
    "def add(b=0,a):\n",
    "    return a+b\n",
    "\n",
    "add(10)\n"
   ]
  },
  {
   "cell_type": "code",
   "execution_count": null,
   "metadata": {},
   "outputs": [],
   "source": [
    "# Create 2 new lists height and weight\n",
    "height = [1.87,  1.87, 1.82, 1.91, 1.90, 1.85]\n",
    "weight = [81.65, 97.52, 95.25, 92.98, 86.18, 88.45]\n",
    "\n",
    "# Import the numpy package as np\n",
    "import numpy as np\n",
    "\n",
    "# Create 2 numpy arrays from height and weight\n",
    "np_height = np.array(height)\n",
    "np_weight = np.array(weight)\n",
    "\n",
    "print(type(np_height))\n",
    "# Calculate bmi\n",
    "bmi = np_weight / np_height ** 2\n",
    "\n",
    "# Print the result\n",
    "print(bmi)\n",
    "# For a boolean response\n",
    "bmi > 23\n",
    "\n",
    "# Print only those observations above 23\n",
    "bmi[bmi > 23]"
   ]
  },
  {
   "cell_type": "code",
   "execution_count": null,
   "metadata": {},
   "outputs": [],
   "source": [
    "import math\n",
    "import os\n",
    "import random\n",
    "import re\n",
    "import sys\n",
    "\n",
    "n=int(input(\"Enter the number:\"))\n",
    "\n",
    "if n%2 != 0:\n",
    "    print(\"Weird\")\n",
    "elif n%2 == 0:\n",
    "    for n in range(2,5):\n",
    "        print(\"Not Weird\")\n",
    "elif n%2 == 0:\n",
    "    for n in range(6,20):\n",
    "        print(\"Weird\")\n",
    "elif n%2 == 0:\n",
    "    for n in range(n>20):\n",
    "        print(\"Not Weird\")\n",
    "        "
   ]
  },
  {
   "cell_type": "code",
   "execution_count": null,
   "metadata": {},
   "outputs": [],
   "source": [
    "def is_leap(year):\n",
    "    leap = False\n",
    "    \n",
    "    if (year % 4 == 0):\n",
    "        leap = True\n",
    "        if (year % 100 == 0):\n",
    "            leap = False\n",
    "    if (year % 400 == 0):\n",
    "                leap = True\n",
    "    \n",
    "    return leap\n",
    "\n",
    "year = int(input())\n"
   ]
  },
  {
   "cell_type": "code",
   "execution_count": null,
   "metadata": {},
   "outputs": [],
   "source": [
    "if __name__ == '__main__':\n",
    "    x = int(input())\n",
    "    y = int(input())\n",
    "    z = int(input())\n",
    "    n = int(input())\n",
    "\n",
    "print ([[a,b,c] for a in range(0,x+1) for b in range(0,y+1) for c in range(0,z+1) if a + b + c != n ])"
   ]
  },
  {
   "cell_type": "code",
   "execution_count": null,
   "metadata": {},
   "outputs": [],
   "source": [
    "i = int(input())\n",
    "lis = list(map(int,input().strip().split()))[:i]\n",
    "z = max(lis)\n",
    "while max(lis) == z:\n",
    "    lis.remove(max(lis))\n",
    "\n",
    "print(max(lis))"
   ]
  },
  {
   "cell_type": "code",
   "execution_count": null,
   "metadata": {},
   "outputs": [],
   "source": [
    "d={} #1\n",
    "for _ in range(int(raw_input())): #2\n",
    "    Name=raw_input() #3\n",
    "    Grade=float(raw_input()) #4\n",
    "    d[Name]=Grade #5\n",
    "v=d.values()#6\n",
    "second=sorted(list(set(v)))[1] #7\n",
    "second_lowest=[] #8\n",
    "for key,value in d.items():  #9\n",
    "    if value==second: #10\n",
    "        second_lowest.append(key) #11\n",
    "second_lowest.sort() #12\n",
    "for name in second_lowest: #13\n",
    "    print name #14"
   ]
  },
  {
   "cell_type": "code",
   "execution_count": null,
   "metadata": {},
   "outputs": [],
   "source": [
    "N = int(input())\n",
    "lis=list()\n",
    "for _ in range(N):\n",
    "    s=input().strip().split(\" \")\n",
    "    if s[0]==\"insert\":\n",
    "        lis.insert(int(s[1]),int(s[2]))\n",
    "    if s[0]==\"print\":\n",
    "        print(lis)\n",
    "    if s[0]==\"remove\":\n",
    "        lis.remove(int(s[1]))\n",
    "    if s[0]==\"append\":\n",
    "        lis.append(int(s[1]))\n",
    "    if s[0]==\"sort\":\n",
    "        lis.sort()\n",
    "    if s[0]==\"pop\":\n",
    "        lis.pop()\n",
    "    if s[0]==\"reverse\":\n",
    "        lis.reverse()\n"
   ]
  },
  {
   "cell_type": "code",
   "execution_count": 3,
   "metadata": {},
   "outputs": [
    {
     "name": "stdout",
     "output_type": "stream",
     "text": [
      "Hi Steeltroops!\n"
     ]
    }
   ],
   "source": [
    "x=int(input(\"ENter the NUmber:\"))\n",
    "if x>21:\n",
    "    print(\"Hi Steeltroops!\")"
   ]
  }
 ],
 "metadata": {
  "interpreter": {
   "hash": "5ea693405629aa4bde5235c97c82e6ee1befddfc4b33d055b21412e1fa4f2d07"
  },
  "kernelspec": {
   "display_name": "Python 3.10.0 64-bit",
   "language": "python",
   "name": "python3"
  },
  "language_info": {
   "codemirror_mode": {
    "name": "ipython",
    "version": 3
   },
   "file_extension": ".py",
   "mimetype": "text/x-python",
   "name": "python",
   "nbconvert_exporter": "python",
   "pygments_lexer": "ipython3",
   "version": "3.10.2"
  },
  "orig_nbformat": 4
 },
 "nbformat": 4,
 "nbformat_minor": 2
}
